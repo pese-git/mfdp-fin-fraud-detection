{
 "cells": [
  {
   "cell_type": "markdown",
   "id": "e61c9a2e",
   "metadata": {},
   "source": [
    "## 🧾 Описание датасета IEEE Fraud Detection\n",
    "\n",
    "Этот датасет был создан в рамках соревнования на Kaggle совместно с компанией **Vesta Corporation**, поставщиком решений для цифровой безопасности.  \n",
    "**Цель:** спрогнозировать, является ли онлайн-транзакция мошеннической (целевая переменная `isFraud`).\n",
    "\n",
    "---\n",
    "\n",
    "## 📁 Структура датасета\n",
    "\n",
    "### 🔹 Обучающая выборка\n",
    "- `train_transaction.csv` — данные о транзакциях\n",
    "- `train_identity.csv` — данные об устройстве, IP, браузере, ОС и пр., используемых во время транзакции\n",
    "\n",
    "### 🔹 Тестовая выборка\n",
    "- `test_transaction.csv`\n",
    "- `test_identity.csv`\n",
    "\n",
    "Обе таблицы соединяются по колонке `TransactionID`.\n",
    "\n",
    "---\n",
    "\n",
    "## 🎯 Целевая переменная\n",
    "- `isFraud` — бинарный флаг:\n",
    "  - `1`: транзакция — мошенническая\n",
    "  - `0`: транзакция — легитимная\n",
    "\n",
    "---\n",
    "\n",
    "## 🧩 Признаки\n",
    "\n",
    "### 📦 Transaction Features\n",
    "\n",
    "| Признак           | Описание |\n",
    "|-------------------|----------|\n",
    "| `TransactionID`   | Уникальный ID транзакции |\n",
    "| `TransactionDT`   | Временная метка (в секундах от некой базовой точки) |\n",
    "| `TransactionAMT`  | Сумма транзакции (в долларах США) |\n",
    "| `ProductCD`       | Код продукта |\n",
    "| `card1`-`card6`   | Информация о платёжной карте: ID карты, тип, банк, страна и т.д. |\n",
    "| `addr1`, `addr2`  | Географическая информация (адрес, штат и т.д.) |\n",
    "| `dist1`, `dist2`  | Расстояние от пользователя до магазина или устройства |\n",
    "| `P_emaildomain`, `R_emaildomain` | Email-домен покупателя и получателя |\n",
    "| `C1`–`C14`        | Различные счётчики, связанные с транзакциями (например, кол-во карт, устройств, адресов) |\n",
    "| `D1`–`D15`        | Временные дельты — количество дней с последней транзакции и т.д. |\n",
    "| `M1`–`M9`         | Бинарные флаги сопоставления (например, совпадает ли адрес доставки и биллинга) |\n",
    "| `V1`–`V339`       | Скрытые признаки, созданные системой Vesta (feature engineering) |\n",
    "\n",
    "---\n",
    "\n",
    "### 🧠 Identity Features\n",
    "\n",
    "| Признак           | Описание |\n",
    "|-------------------|----------|\n",
    "| `DeviceType`      | Тип устройства (desktop / mobile) |\n",
    "| `DeviceInfo`      | Информация об устройстве (например, модель или браузер) |\n",
    "| `id_12`–`id_38`   | Признаки, связанные с IP, прокси, ISP, операционной системой и прочими параметрами пользователя. Их конкретное значение скрыто по соображениям конфиденциальности. |\n",
    "\n",
    "---\n",
    "\n",
    "## 🗃 Категориальные признаки\n",
    "\n",
    "Некоторые из них:\n",
    "\n",
    "- `ProductCD`\n",
    "- `card1` – `card6`\n",
    "- `addr1`, `addr2`\n",
    "- `P_emaildomain`, `R_emaildomain`\n",
    "- `M1` – `M9`\n",
    "- `DeviceType`, `DeviceInfo`\n",
    "- `id_12` – `id_38`\n",
    "\n",
    "---\n",
    "\n",
    "## ⚠ Особенности\n",
    "\n",
    "- **Сильно несбалансированный датасет:** мошеннические транзакции — лишь малая часть выборки.\n",
    "- **Псевдовременная метка (`TransactionDT`)** — может использоваться для создания временных признаков.\n",
    "- **Много пропусков и выбросов** — важно тщательно обрабатывать данные.\n",
    "- **Скрытые признаки `Vxxx`** — важно использовать отброс шума и методы отбора признаков."
   ]
  },
  {
   "cell_type": "markdown",
   "id": "552ba3b5",
   "metadata": {},
   "source": [
    "# 0. Реализация вспомогательных функций"
   ]
  },
  {
   "cell_type": "code",
   "execution_count": null,
   "id": "cc526f51",
   "metadata": {},
   "outputs": [],
   "source": [
    "# Базовые библиотеки\n",
    "import pandas as pd\n",
    "import numpy as np\n",
    "import matplotlib.pyplot as plt\n",
    "import seaborn as sns\n",
    "\n",
    "# Чтобы красиво отображались графики\n",
    "import warnings\n",
    "warnings.filterwarnings('ignore')\n",
    "sns.set(style=\"whitegrid\")\n",
    "#plt.style.use(\"seaborn-dark\")"
   ]
  },
  {
   "cell_type": "code",
   "execution_count": null,
   "id": "1ea06022",
   "metadata": {},
   "outputs": [],
   "source": [
    "from sklearn.metrics import roc_curve, auc, precision_recall_curve, average_precision_score\n",
    "import matplotlib.pyplot as plt\n",
    "from sklearn.metrics import roc_auc_score, average_precision_score\n",
    "from sklearn.metrics import recall_score\n",
    "\n",
    "\n",
    "def eval(model, X_val, y_val):\n",
    "    y_pred = model.predict(X_val)\n",
    "    # Предсказания вероятностей\n",
    "    y_pred_proba = model.predict_proba(X_val)[:, 1]\n",
    "\n",
    "\n",
    "    # Recall\n",
    "    recall = recall_score(y_val, y_pred)\n",
    "    print(f\"Recall: {recall:.4f}\")\n",
    "\n",
    "    # ROC-AUC\n",
    "    roc_auc = roc_auc_score(y_val, y_pred_proba)\n",
    "    print(f'ROC-AUC: {roc_auc:.4f}')\n",
    "\n",
    "    # PR-AUC\n",
    "    pr_auc = average_precision_score(y_val, y_pred_proba)\n",
    "    print(f'PR-AUC: {pr_auc:.4f}')\n",
    "\n",
    "    # --- ROC-AUC ---\n",
    "    fpr, tpr, thresholds = roc_curve(y_val, y_pred_proba)\n",
    "    roc_auc = auc(fpr, tpr)\n",
    "\n",
    "    plt.figure(figsize=(8,6))\n",
    "    plt.plot(fpr, tpr, label=f'ROC curve (area = {roc_auc:.4f})', color='blue')\n",
    "    plt.plot([0, 1], [0, 1], 'k--')  # диагональ\n",
    "    plt.xlabel('False Positive Rate')\n",
    "    plt.ylabel('True Positive Rate')\n",
    "    plt.title('Receiver Operating Characteristic (ROC)')\n",
    "    plt.legend(loc='lower right')\n",
    "    plt.grid()\n",
    "    plt.show()\n",
    "\n",
    "    # --- PR-AUC ---\n",
    "    precision, recall, thresholds = precision_recall_curve(y_val, y_pred_proba)\n",
    "    pr_auc = average_precision_score(y_val, y_pred_proba)\n",
    "\n",
    "    plt.figure(figsize=(8,6))\n",
    "    plt.plot(recall, precision, label=f'PR curve (area = {pr_auc:.4f})', color='green')\n",
    "    plt.xlabel('Recall')\n",
    "    plt.ylabel('Precision')\n",
    "    plt.title('Precision-Recall (PR) Curve')\n",
    "    plt.legend(loc='lower left')\n",
    "    plt.grid()\n",
    "    plt.show()"
   ]
  },
  {
   "cell_type": "code",
   "execution_count": null,
   "id": "5c06777d",
   "metadata": {},
   "outputs": [],
   "source": [
    "\n",
    "def show_feature_details(df, col, top=10):\n",
    "    print(f'\\nАнализ признака: {col}')\n",
    "    print(df[col].value_counts(normalize=True).head(top))\n",
    "\n",
    "    fature_counts = df[col].value_counts(normalize=True) * 100\n",
    "\n",
    "    # Построение круговой диаграммы\n",
    "    plt.figure(figsize=(10,10))\n",
    "    plt.pie(fature_counts, labels=fature_counts.index, autopct='%1.1f%%', startangle=140)\n",
    "    plt.title(f'Распределение по {col}')\n",
    "    plt.axis('equal')\n",
    "    plt.show()\n",
    "\n",
    "\n",
    "    fraud_rate = df.groupby(col)['isFraud'].mean().sort_values(ascending=False)\n",
    "    plt.figure(figsize=(12,4))\n",
    "    fraud_rate.head(top).plot(kind='bar')\n",
    "    plt.title(f'Доля мошенничества по {col}')\n",
    "    plt.ylabel('Доля мошенничества')\n",
    "    plt.show()"
   ]
  },
  {
   "cell_type": "markdown",
   "id": "ec8a9b21",
   "metadata": {},
   "source": [
    "## 1. Загрузка данных и базовая очистка"
   ]
  },
  {
   "cell_type": "code",
   "execution_count": null,
   "id": "e51c0692",
   "metadata": {},
   "outputs": [],
   "source": [
    "# Импортируем библиотеки\n",
    "import pandas as pd\n",
    "import numpy as np\n",
    "\n",
    "# Путь к данным\n",
    "PATH_TRANSACTION = '../data/ieee-fraud-detection/train_transaction.csv'\n",
    "PATH_IDENTITY = '../data/ieee-fraud-detection/train_identity.csv'\n",
    "\n",
    "# Загрузка данных\n",
    "transaction = pd.read_csv(PATH_TRANSACTION)\n",
    "identity = pd.read_csv(PATH_IDENTITY)\n",
    "\n",
    "print(f\"Размер train_transaction: {transaction.shape}\")\n",
    "print(f\"Размер train_identity: {identity.shape}\")\n",
    "\n",
    "# Объединяем по TransactionID\n",
    "train = transaction.merge(identity, how='left', on='TransactionID')\n",
    "\n",
    "print(f\"Итоговый размер train: {train.shape}\")\n",
    "\n",
    "# Быстрый осмотр данных\n",
    "print(train.head())\n"
   ]
  },
  {
   "cell_type": "markdown",
   "id": "90bd72be",
   "metadata": {},
   "source": [
    "### Базовая очистка данных"
   ]
  },
  {
   "cell_type": "code",
   "execution_count": null,
   "id": "dfdea9a3",
   "metadata": {},
   "outputs": [],
   "source": [
    "# 4. Приведение типов\n",
    "# Категориальные признаки, которые явно известны\n",
    "categorical_features = [\n",
    "    'ProductCD', 'card1', 'card2', 'card3', 'card4', 'card5', 'card6',\n",
    "    'addr1', 'addr2', 'P_emaildomain', 'R_emaildomain',\n",
    "    'DeviceType', 'DeviceInfo'\n",
    "]\n",
    "\n",
    "# identity категориальные признаки\n",
    "identity_categoricals = [col for col in train.columns if col.startswith('id_')]\n",
    "categorical_features += identity_categoricals\n",
    "\n",
    "# M-признаки — бинарные (но иногда могут быть NaN)\n",
    "m_features = [col for col in train.columns if col.startswith('M')]\n",
    "categorical_features += m_features\n",
    "\n",
    "# Оставляем только те, что остались в train\n",
    "categorical_features = [col for col in categorical_features if col in train.columns]\n",
    "\n",
    "# Каст категориальных в str/categorical\n",
    "for col in categorical_features:\n",
    "    train[col] = train[col].astype('category')"
   ]
  },
  {
   "cell_type": "code",
   "execution_count": null,
   "id": "756ac1c6",
   "metadata": {},
   "outputs": [],
   "source": [
    "import pandas as pd\n",
    "import matplotlib.pyplot as plt\n",
    "\n",
    "# 1. Доля пропусков по колонкам\n",
    "missing_col = train.isnull().mean().sort_values(ascending=False)\n",
    "high_null_cols = missing_col[missing_col > 0.3]  # порог 30%\n",
    "\n",
    "print(f\"🧹 Рекомендуется удалить {len(high_null_cols)} колонок (>{30}% пропусков):\")\n",
    "print(high_null_cols)\n",
    "\n",
    "# 2. Доля пропусков по строкам\n",
    "missing_row = train.isnull().mean(axis=1)\n",
    "high_null_rows = missing_row[missing_row > 0.5]\n",
    "\n",
    "print(f\"\\n🧹 Рекомендуется удалить {len(high_null_rows)} строк (>{50}% пропусков)\")\n",
    "\n",
    "# 3. Визуализация\n",
    "fig, ax = plt.subplots(1, 2, figsize=(14, 5))\n",
    "\n",
    "# Гистограмма пропусков по колонкам\n",
    "ax[0].hist(missing_col, bins=30, color='skyblue', edgecolor='black')\n",
    "ax[0].set_title('Распределение пропусков по колонкам')\n",
    "ax[0].set_xlabel('Доля пропущенных значений')\n",
    "ax[0].set_ylabel('Количество колонок')\n",
    "\n",
    "# Гистограмма пропусков по строкам\n",
    "ax[1].hist(missing_row, bins=30, color='salmon', edgecolor='black')\n",
    "ax[1].set_title('Распределение пропусков по строкам')\n",
    "ax[1].set_xlabel('Доля пропущенных значений')\n",
    "ax[1].set_ylabel('Количество строк')\n",
    "\n",
    "plt.tight_layout()\n",
    "plt.show()\n"
   ]
  },
  {
   "cell_type": "markdown",
   "id": "92d4271d",
   "metadata": {},
   "source": [
    "### ✅ 1. Удаление колонок с большим количеством пропусков"
   ]
  },
  {
   "cell_type": "code",
   "execution_count": null,
   "id": "35b43cf8",
   "metadata": {},
   "outputs": [],
   "source": [
    "# Порог: удалим все столбцы, где > 30% пропусков\n",
    "threshold_col = 0.3\n",
    "missing_ratio_col = train.isnull().mean()\n",
    "\n",
    "cols_to_drop = missing_ratio_col[missing_ratio_col > threshold_col].index.tolist()\n",
    "df_cleaned = train.drop(columns=cols_to_drop)\n",
    "\n",
    "print(f\"Удалено {len(cols_to_drop)} колонок:\", cols_to_drop)\n"
   ]
  },
  {
   "cell_type": "markdown",
   "id": "dbc6b48d",
   "metadata": {},
   "source": [
    "### ✅ 2. Удаление строк с большим количеством пропусков"
   ]
  },
  {
   "cell_type": "code",
   "execution_count": null,
   "id": "5ced2596",
   "metadata": {},
   "outputs": [],
   "source": [
    "# Порог: удалим строки, где > 50% значений пропущены\n",
    "threshold_row = 0.5\n",
    "missing_ratio_row = train.isnull().mean(axis=1)\n",
    "\n",
    "rows_to_drop = train[missing_ratio_row > threshold_row].index\n",
    "df_cleaned = df_cleaned.drop(index=rows_to_drop)\n",
    "\n",
    "print(f\"Удалено {len(rows_to_drop)} строк\")\n"
   ]
  },
  {
   "cell_type": "code",
   "execution_count": null,
   "id": "887e7d7b",
   "metadata": {},
   "outputs": [],
   "source": [
    "df_cleaned.shape"
   ]
  },
  {
   "cell_type": "markdown",
   "id": "7f2ab927",
   "metadata": {},
   "source": [
    "🧩 Шаг 1: Разделим признаки по типу"
   ]
  },
  {
   "cell_type": "code",
   "execution_count": null,
   "id": "0ce77eae",
   "metadata": {},
   "outputs": [],
   "source": [
    "# Числовые и категориальные признаки\n",
    "num_cols = df_cleaned.select_dtypes(include=['number']).columns\n",
    "cat_cols = df_cleaned.select_dtypes(include=['object', 'category']).columns"
   ]
  },
  {
   "cell_type": "markdown",
   "id": "bc60f1fd",
   "metadata": {},
   "source": [
    "🧩 Шаг 2: Заполним числовые признаки (медианой — устойчиво к выбросам)"
   ]
  },
  {
   "cell_type": "code",
   "execution_count": null,
   "id": "e051cb87",
   "metadata": {},
   "outputs": [],
   "source": [
    "for col in num_cols:\n",
    "    if df_cleaned[col].isnull().any():\n",
    "        median = df_cleaned[col].median()\n",
    "        df_cleaned[col].fillna(median, inplace=True)\n"
   ]
  },
  {
   "cell_type": "markdown",
   "id": "5caa44ba",
   "metadata": {},
   "source": [
    "🧩 Шаг 3: Заполним категориальные признаки (модой или 'Unknown')"
   ]
  },
  {
   "cell_type": "code",
   "execution_count": null,
   "id": "5c7921c4",
   "metadata": {},
   "outputs": [],
   "source": [
    "for col in cat_cols:\n",
    "    if df_cleaned[col].isnull().any():\n",
    "        mode = df_cleaned[col].mode(dropna=True)\n",
    "        if not mode.empty:\n",
    "            df_cleaned[col].fillna(mode[0], inplace=True)\n",
    "        else:\n",
    "            df_cleaned[col].fillna('Unknown', inplace=True)\n"
   ]
  },
  {
   "cell_type": "markdown",
   "id": "7a2a059f",
   "metadata": {},
   "source": [
    "🧩 Шаг 4: Проверим, всё ли заполнено"
   ]
  },
  {
   "cell_type": "code",
   "execution_count": null,
   "id": "cd40adbd",
   "metadata": {},
   "outputs": [],
   "source": [
    "missing_summary = df_cleaned.isnull().sum()\n",
    "print(\"Оставшиеся пропуски по столбцам:\\n\", missing_summary[missing_summary > 0])\n"
   ]
  },
  {
   "cell_type": "code",
   "execution_count": null,
   "id": "9824a770",
   "metadata": {},
   "outputs": [],
   "source": [
    "df_cleaned['TransactionDT'].head()"
   ]
  },
  {
   "cell_type": "markdown",
   "id": "3dd7c037",
   "metadata": {},
   "source": [
    "## 2. Обзор признаков - Корреляционная матрица"
   ]
  },
  {
   "cell_type": "code",
   "execution_count": null,
   "id": "defaa654",
   "metadata": {},
   "outputs": [],
   "source": [
    "import matplotlib.pyplot as plt\n",
    "import seaborn as sns\n",
    "\n",
    "# Посмотрим распределение целевой переменной\n",
    "print(df_cleaned['isFraud'].value_counts(normalize=True))\n",
    "\n",
    "# Выберем только числовые признаки для корреляции\n",
    "numeric_features = df_cleaned.select_dtypes(include=[np.number])\n",
    "\n",
    "# Посчитаем корреляцию с целевой переменной\n",
    "correlation_matrix = numeric_features.corr()\n",
    "\n",
    "# Корреляция признаков с целевой переменной\n",
    "cor_target = correlation_matrix['isFraud'].sort_values(ascending=False)\n",
    "print(\"Топ признаков, наиболее коррелирующих с isFraud:\\n\", cor_target.head(15))\n"
   ]
  },
  {
   "cell_type": "code",
   "execution_count": null,
   "id": "acc00c17",
   "metadata": {},
   "outputs": [],
   "source": [
    "# Тепловая карта всей корреляционной матрицы\n",
    "plt.figure(figsize=(16, 14))\n",
    "sns.heatmap(correlation_matrix, cmap='coolwarm', center=0, linewidths=0.5)\n",
    "plt.title('Полная корреляционная матрица признаков', fontsize=18)\n",
    "plt.show()"
   ]
  },
  {
   "cell_type": "code",
   "execution_count": null,
   "id": "721048ce",
   "metadata": {},
   "outputs": [],
   "source": [
    "# тепловая карта только топ-30 признаков\n",
    "top_features = cor_target.index[1:31]  # исключаем сам isFraud\n",
    "plt.figure(figsize=(14, 12))\n",
    "sns.heatmap(train[top_features].corr(), cmap='coolwarm', center=0, annot=False, linewidths=0.5)\n",
    "plt.title('Корреляционная матрица топ-30 признаков', fontsize=18)\n",
    "plt.show()"
   ]
  },
  {
   "cell_type": "markdown",
   "id": "00cc6d32",
   "metadata": {},
   "source": [
    "Как мы видимо, сильно коррелируемые признаки трудно интерпретируемы"
   ]
  },
  {
   "cell_type": "markdown",
   "id": "8e628b74",
   "metadata": {},
   "source": [
    "## Расширенный EDA для антифрод-датасета"
   ]
  },
  {
   "cell_type": "markdown",
   "id": "cd2b0a72",
   "metadata": {},
   "source": [
    "### 1. Базовое описание данных"
   ]
  },
  {
   "cell_type": "code",
   "execution_count": null,
   "id": "b6d99741",
   "metadata": {},
   "outputs": [],
   "source": [
    "numeric_features = df_cleaned.select_dtypes(include=['number']).columns\n",
    "categorical_features = df_cleaned.select_dtypes(include=['object', 'category']).columns\n",
    "\n",
    "# Размеры датасета\n",
    "print(f'Размеры датасета: {df_cleaned.shape[0]} строк, {df_cleaned.shape[1]} признаков.')\n",
    "\n",
    "# Доли классов\n",
    "print(df_cleaned['isFraud'].value_counts(normalize=True))\n",
    "\n",
    "# Доля пропусков по признакам\n",
    "missing_values = df_cleaned.isnull().mean().sort_values(ascending=False)\n",
    "print(missing_values[missing_values > 0])\n",
    "\n",
    "# Типы признаков\n",
    "print('Категориальные признаки:', len(categorical_features))\n",
    "print('Числовые признаки:', len(numeric_features))\n"
   ]
  },
  {
   "cell_type": "markdown",
   "id": "9e35f5fd",
   "metadata": {},
   "source": [
    "### 2.Анализ признака TransactionDT"
   ]
  },
  {
   "cell_type": "markdown",
   "id": "eb7e0205",
   "metadata": {},
   "source": [
    "> Важно! Так как `TransactionDT` - Временная метка (в секундах от некой базовой точки), то преобразования в новые признаки условное."
   ]
  },
  {
   "cell_type": "markdown",
   "id": "5834027c",
   "metadata": {},
   "source": [
    "#### Нормализовать временные метки\n",
    "\n",
    "\n",
    "Так как мы не знаем точной базовой точки, можно нормализовать временные метки, приведя их к более понятному формату. Например, мы можем посчитать, сколько прошло времени от самой первой транзакции и работать с этим диапазоном."
   ]
  },
  {
   "cell_type": "code",
   "execution_count": null,
   "id": "487d4c14",
   "metadata": {},
   "outputs": [],
   "source": [
    "df_modified = df_cleaned.copy()"
   ]
  },
  {
   "cell_type": "code",
   "execution_count": null,
   "id": "7de8a398",
   "metadata": {},
   "outputs": [],
   "source": [
    "# Найдем минимальное значение\n",
    "min_timestamp = df_modified['TransactionDT'].min()\n",
    "\n",
    "# Преобразуем временные метки относительно минимальной\n",
    "df_modified['Relative_TransactionDT'] = df_modified['TransactionDT'] - min_timestamp\n",
    "\n",
    "# Преобразуем в дни, часы, минуты и т.д.\n",
    "df_modified['Transaction_day'] = df_modified['Relative_TransactionDT'] // (24 * 60 * 60)  # в днях\n",
    "df_modified['Transaction_hour'] = (df_modified['Relative_TransactionDT'] // 3600) % 24  # в часах\n",
    "df_modified['Transaction_weekday'] = (df_modified['Relative_TransactionDT'] // (3600*24)) % 7\n",
    "df_modified['Transaction_day'] = df_modified['Transaction_day'].astype(int)\n",
    "df_modified['Transaction_hour'] = df_modified['Transaction_hour'].astype(int)\n",
    "df_modified['Transaction_weekday'] = df_modified['Transaction_weekday'].astype(int)"
   ]
  },
  {
   "cell_type": "code",
   "execution_count": null,
   "id": "610a3ad5",
   "metadata": {},
   "outputs": [],
   "source": [
    "# Количество транзакций во времени\n",
    "plt.figure(figsize=(14,6))\n",
    "df_modified.groupby('Transaction_day').size().plot()\n",
    "plt.title('Количество транзакций по дням')\n",
    "plt.xlabel('День')\n",
    "plt.ylabel('Количество транзакций')\n",
    "plt.show()"
   ]
  },
  {
   "cell_type": "markdown",
   "id": "dd0912f4",
   "metadata": {},
   "source": [
    "#### График: Количество транзакций по дням\n",
    "\n",
    "1. **Тренды и Пики:**\n",
    "   - Наблюдаются несколько пиков, особенно в начале периода и ближе к середине.\n",
    "   - Присутствует высокая изменчивость в количестве транзакций.\n",
    " \n",
    "2. **Сезонность:**\n",
    "   - Возможные периоды увеличения активности, что может быть связано с внешними факторами, например, акциями или праздниками.\n",
    "  \n",
    "3. **Общий Уровень:**\n",
    "   - Тренд показывает небольшое снижение активности после первой половины, что может указывать на изменения в операционной среде или структуре данных.\n"
   ]
  },
  {
   "cell_type": "code",
   "execution_count": null,
   "id": "49b2b6f7",
   "metadata": {},
   "outputs": [],
   "source": [
    "# Количество мошенничеств во времени\n",
    "plt.figure(figsize=(14,6))\n",
    "df_modified[df_modified['isFraud'] == 1].groupby('Transaction_day').size().plot()\n",
    "plt.title('Количество мошеннических транзакций по дням')\n",
    "plt.xlabel('День')\n",
    "plt.ylabel('Количество мошенничеств')\n",
    "plt.show()\n"
   ]
  },
  {
   "cell_type": "markdown",
   "id": "a885af8f",
   "metadata": {},
   "source": [
    "#### График: Количество мошеннических транзакций по дням\n",
    "\n",
    "1. **Тренды и Пики:**\n",
    "   - Наблюдаются частые колебания в количестве мошеннических транзакций, но, в отличие от общего числа транзакций, их уровень более стабильный.\n",
    "\n",
    "2. **Сезонность и Корреляция:**\n",
    "   - Сезонные пики совпадают с общим графиком транзакций, что может указывать на то, что увеличение общего количества транзакций сопутствует и мошеннической активности.\n",
    "\n",
    "3. **Общий Уровень:**\n",
    "   - Явная волатильность свидетельствует о непредсказуемости мошеннических действий, хотя в целом показатели имеют тенденцию к снижению в течение времени.\n"
   ]
  },
  {
   "cell_type": "markdown",
   "id": "476063d1",
   "metadata": {},
   "source": [
    "### Общий вывод\n",
    "\n",
    "- **Сопоставление графиков:** Пики и спады в количестве транзакций и мошеннических операций часто совпадают, указывая на возможную взаимосвязь между общим объемом транзакций и мошеннической активностью.\n",
    "- **Возможные внешние влияния:** Стоит учитывать влияние сезонных факторов или маркетинговых кампаний, которые могут влиять на активность транзакций."
   ]
  },
  {
   "cell_type": "code",
   "execution_count": null,
   "id": "2410bb01",
   "metadata": {},
   "outputs": [],
   "source": [
    "# Время суток\n",
    "plt.figure(figsize=(14,6))\n",
    "sns.histplot(data=df_modified, x='Transaction_hour', hue='isFraud', bins=24, kde=True, multiple='stack')\n",
    "plt.title('Распределение транзакций по времени суток')\n",
    "plt.xlabel('Час дня')\n",
    "plt.show()"
   ]
  },
  {
   "cell_type": "markdown",
   "id": "3dc63bc0",
   "metadata": {},
   "source": [
    "### Анализ графика распределения транзакций по времени суток\n",
    "\n",
    "1. **Общая активность:**\n",
    "   - Наибольшее количество транзакций происходит в вечерние и ночные часы (пик около 16-23 часов).\n",
    "   - Самое низкое количество транзакций наблюдается около 6-10 часов утра.\n",
    "\n",
    "2. **Мошеннические транзакции:**\n",
    "   - Хотя количество мошеннических транзакций значительно ниже общего числа транзакций, их распределение по времени суток похоже на распределение обычных транзакций.\n",
    "   - Мошеннические активности также снижаются утром и увеличиваются вечером.\n",
    "\n",
    "3. **Интерпретации:**\n",
    "   - Активность пользователей и, возможно, мошенническая активность связаны с суточной активностью людей, как в рабочее, так и в нерабочее время.\n",
    "   - Необходимы дополнительные исследования, чтобы определить, связаны ли пики мошенничества с особыми событиями или условиями."
   ]
  },
  {
   "cell_type": "code",
   "execution_count": null,
   "id": "9f8ed278",
   "metadata": {},
   "outputs": [],
   "source": [
    "df_modified[['TransactionDT', 'Relative_TransactionDT','Transaction_day', 'Transaction_hour']]"
   ]
  },
  {
   "cell_type": "markdown",
   "id": "1c92434d",
   "metadata": {},
   "source": [
    "### 3. Анализ целевой переменной isFraud"
   ]
  },
  {
   "cell_type": "code",
   "execution_count": null,
   "id": "2a1f525f",
   "metadata": {},
   "outputs": [],
   "source": [
    "# Распределение сумм транзакций\n",
    "plt.figure(figsize=(14,6))\n",
    "sns.histplot(data=df_modified, x='TransactionAmt', hue='isFraud', bins=100, log_scale=True, kde=True)\n",
    "plt.title('Распределение суммы транзакций в зависимости от мошенничества')\n",
    "plt.xlabel('Сумма транзакции')\n",
    "plt.show()\n",
    "\n",
    "# Топ-10 признаков по корреляции с isFraud\n",
    "fraud_corr = df_modified[numeric_features].corr()['isFraud'].drop('isFraud').abs().sort_values(ascending=False)\n",
    "print('Топ-10 признаков по корреляции с isFraud:')\n",
    "print(fraud_corr.head(10))\n"
   ]
  },
  {
   "cell_type": "markdown",
   "id": "014e8327",
   "metadata": {},
   "source": [
    "**Описание графика**\n",
    "\n",
    "Ось X (логарифмическая шкала) — это сумма транзакции (TransactionAmt). Сразу видно, что большинство транзакций сосредоточены в диапазоне от примерно 10 до 1000 единиц.\n",
    "\n",
    "Ось Y — это количество транзакций.\n",
    "\n",
    "Цвета:\n",
    "- Синие столбцы — обычные транзакции (isFraud = 0).\n",
    "- Оранжевая линия/заливка (еле видная) — мошеннические транзакции (isFraud = 1).\n",
    "\n",
    "Что видно:\n",
    "- Обычных транзакций очень много по сравнению с мошенническими.\n",
    "- Распределение транзакций сильно скошено вправо (много маленьких сумм, мало больших).\n",
    "- Мошеннические транзакции встречаются реже и скорее всего имеют свои \"специфические\" диапазоны сумм, хотя визуально их не видно на фоне всех транзакций.\n",
    "\n",
    "\n",
    "**Краткий вывод по графику**:\n",
    "\n",
    "- Большинство транзакций — на небольшие суммы.\n",
    "- Мошеннические транзакции — редкие и тонут в основном распределении."
   ]
  },
  {
   "cell_type": "markdown",
   "id": "6b292ad6",
   "metadata": {},
   "source": [
    "### 4. Анализ категориальных признаков"
   ]
  },
  {
   "cell_type": "markdown",
   "id": "06e8caa2",
   "metadata": {},
   "source": [
    "### Анализ признака ProductCD"
   ]
  },
  {
   "cell_type": "code",
   "execution_count": null,
   "id": "d754af65",
   "metadata": {},
   "outputs": [],
   "source": [
    "col = 'ProductCD'\n",
    "show_feature_details(train, col)"
   ]
  },
  {
   "cell_type": "markdown",
   "id": "1c741630",
   "metadata": {},
   "source": [
    "#### 1. Распределение транзакций по ProductCD\n",
    "- Большинство транзакций относятся к типу **W** — **74.45%** всех операций.\n",
    "- На втором месте — **C** (**11.60%**), затем идут **R** (**6.38%**), **H** (**5.59%**) и **S** (**1.97%**).\n",
    "- Категория **unknown** отсутствует (0%).\n",
    "\n",
    "**Вывод**: транзакции крайне неравномерно распределены между различными ProductCD. Большую часть составляют операции типа **W**.\n",
    "\n",
    "---\n",
    "\n",
    "#### 2. Доля мошенничества по ProductCD (анализ графика)\n",
    "На графике показана **доля мошеннических операций** внутри каждой категории:\n",
    "\n",
    "- **Наивысшая доля мошенничества** наблюдается у ProductCD **C** (~12%).\n",
    "- Далее идут **S**, **H** и **R** — их доли мошенничества постепенно уменьшаются.\n",
    "- У **W**, несмотря на огромное количество транзакций, **доля мошенничества минимальна** (~2%).\n",
    "- Для **unknown** доля мошенничества равна нулю.\n",
    "\n",
    "**Вывод**:\n",
    "- Типы продуктов **C**, **S**, **H** и **R** более подвержены мошенничеству, чем **W**.\n",
    "- Особенно стоит обратить внимание на **C** — хотя он встречается реже, риск мошенничества в нём высокий.\n",
    "- **W** — массовый продукт с наименьшим риском мошенничества.\n",
    "\n",
    "---\n",
    "\n",
    "#### 3. Итого:\n",
    "- При построении модели для предсказания мошенничества можно учитывать категорию **ProductCD** как важный признак.\n",
    "- Категории с высокой долей мошенничества (**C**, **S**) могут иметь повышенный вес или более строгую проверку.\n",
    "- Категории с низкой долей мошенничества (**W**) могут снижать вероятность классификации транзакции как мошеннической."
   ]
  },
  {
   "cell_type": "markdown",
   "id": "a6a121e5",
   "metadata": {},
   "source": [
    "### Анализ признака  card1"
   ]
  },
  {
   "cell_type": "code",
   "execution_count": null,
   "id": "e3568d19",
   "metadata": {},
   "outputs": [],
   "source": [
    "train['card1'].unique()"
   ]
  },
  {
   "cell_type": "code",
   "execution_count": null,
   "id": "8545f03a",
   "metadata": {},
   "outputs": [],
   "source": [
    "col = 'card1'\n",
    "show_feature_details(train, col)"
   ]
  },
  {
   "cell_type": "markdown",
   "id": "35cef150",
   "metadata": {},
   "source": [
    "### Анализ графика \"Доля мошенничества по card1\"\n",
    "\n",
    "1. **Равномерная доля мошенничества:**\n",
    "   - График показывает, что доля мошеннических транзакций для каждой из представленных карт примерно одинакова. Это указывает на отсутствие явных аномалий или специфичных карт с высоким уровнем риска.\n",
    "\n",
    "2. **Визуальное различие:**\n",
    "   - Незначительные различия между картами указывают на то, что по этому признаку не удастся точно выделить мошеннические действия.\n",
    "\n",
    "3. **Интерпретация данных:**\n",
    "   - Это может свидетельствовать о том, что `card1` как отдельный признак не является сильным индикатором мошенничества. Необходимо комбинировать его с другими признаками для повышения эффективности модели.\n",
    "\n",
    "4. **Нет доминирующих аномалий:**\n",
    "   - Отсутствие резкого пика говорит о том, что ни одна из категорий `card1` не выбивается в плане анормально высокого уровня мошенничества.\n",
    "\n",
    "### Варианты использования признака:\n",
    "\n",
    "- **Комбинация признаков:** Исследовать сочетания `card1` с другими признаками, чтобы выявить потенциальные скрытые зависимости.\n",
    "  \n",
    "- **Feature Engineering:** Создать дополнительные признаки, такие как взаимодействия с другими категориями (`card2`, `addr1`, и т.д.).\n",
    "\n",
    "- **Сегментация:** Исследовать временные изменения в доле мошенничества, что может выявить неизвестные паттерны."
   ]
  },
  {
   "cell_type": "code",
   "execution_count": null,
   "id": "cf8a2c93",
   "metadata": {},
   "outputs": [],
   "source": [
    "import matplotlib.pyplot as plt\n",
    "import seaborn as sns\n",
    "import numpy as np\n",
    "\n",
    "# Считаем количество транзакций по каждому card1\n",
    "card1_counts = df_modified['card1'].value_counts()\n",
    "\n",
    "# Чтобы избежать проблем с \"unknown\" (где 0 транзакций)\n",
    "card1_counts = card1_counts[card1_counts > 0]\n",
    "\n",
    "# Логарифмируем количество транзакций для более наглядного графика\n",
    "plt.figure(figsize=(12, 6))\n",
    "sns.histplot(np.log1p(card1_counts), bins=100, kde=True)\n",
    "plt.title('Лог-распределение количества транзакций по card1')\n",
    "plt.xlabel('log1p(количество транзакций)')\n",
    "plt.ylabel('Число card1')\n",
    "plt.grid(True)\n",
    "plt.show()\n"
   ]
  },
  {
   "cell_type": "markdown",
   "id": "268968ac",
   "metadata": {},
   "source": [
    "### Выводы по графику лог-распределения количества транзакций по `card1`\n",
    "\n",
    "1. **Сильная скошенность влево:**\n",
    "   - Большинство карт имеет небольшое количество транзакций, что типично для распределений с длинным хвостом.\n",
    "\n",
    "2. **Длинный хвост:**\n",
    "   - Небольшое количество карт используется очень активно, что может указывать на определенные поведенческие паттерны или риск мошенничества.\n",
    "\n",
    "3. **Аномалии в активности:**\n",
    "   - Карты с чрезмерно высоким числом транзакций могут быть исследованы на предмет аномального или подозрительного поведения.\n",
    "\n",
    "4. **Требуется дополнительное исследование:**\n",
    "   - Важно проанализировать временные и контекстуальные аспекты использования этих карт, чтобы лучше понять природу активности и связанный с ней риск.\n",
    "\n",
    "5. **Разработка признаков:**\n",
    "   - Возможно создание новых признаков, таких как \"частота транзакций\", для повышения точности моделей анти-фрода."
   ]
  },
  {
   "cell_type": "markdown",
   "id": "d58eedca",
   "metadata": {},
   "source": [
    "### Анализ признака card2"
   ]
  },
  {
   "cell_type": "code",
   "execution_count": null,
   "id": "d0720b73",
   "metadata": {},
   "outputs": [],
   "source": [
    "col = 'card2'\n",
    "show_feature_details(train, col)"
   ]
  },
  {
   "cell_type": "markdown",
   "id": "8bba64d2",
   "metadata": {},
   "source": []
  },
  {
   "cell_type": "markdown",
   "id": "3450b3a4",
   "metadata": {},
   "source": [
    "### Анализ графика \"Доля мошенничества по card2\"\n",
    "\n",
    "1. **Различия в доле мошенничества:**\n",
    "   - Карты с кодами `card2`, такими как 289.0 и 405.0, имеют более высокую долю мошенничества по сравнению с другими. Это указывает на возможные рисковые категории.\n",
    "\n",
    "2. **Вариативность данных:**\n",
    "   - Наблюдается значительное различие в доле мошенничества между различными значениями `card2`. Это различие может помочь в идентификации карт с высоким риском мошенничества.\n",
    "\n",
    "3. **Выявление аномалий:**\n",
    "   - Высокая доля мошенничества для некоторых значений может указывать на возможность целенаправленных атак или повышенного фокуса мошенников на этих картах.\n",
    "\n",
    "4. **Использование в моделировании:**\n",
    "   - Значения `card2` с высокой долей мошенничества можно использовать как индикаторы \"красного флага\" для автоматического мониторинга и фильтрации подозрительных транзакций.\n",
    "\n",
    "### Варианты использования признака:\n",
    "\n",
    "  - Провести анализ транзакций по указанным категориям, чтобы понять причину высокого уровня мошенничества.\n",
    "  - Использовать данную информацию в качестве значимого признака для классификационных моделей, чтобы повысить точность предсказания мошенничества."
   ]
  },
  {
   "cell_type": "markdown",
   "id": "b0dab1ae",
   "metadata": {},
   "source": [
    "### Анализ признака card3"
   ]
  },
  {
   "cell_type": "code",
   "execution_count": null,
   "id": "07f39283",
   "metadata": {},
   "outputs": [],
   "source": [
    "col = 'card3'\n",
    "show_feature_details(train, col)"
   ]
  },
  {
   "cell_type": "markdown",
   "id": "d17f5a3c",
   "metadata": {},
   "source": [
    "### Анализ графика признака `card3`\n",
    "\n",
    "1. **Высокая доля мошенничества:**\n",
    "   - На графике видно, что несколько значений `card3` (такие как 132.0, 160.0, 175.0 и другие) имеют значительные доли мошенничества, близкие к 1. Это делает их важными для анализа риска.\n",
    "\n",
    "2. **Потенциальные аномалии:**\n",
    "   - Значения с высокой долей мошенничества могут указывать на либо целенаправленные атаки, либо на фальшивые карты. Стоит провести более детальное исследование таких транзакций.\n",
    "\n",
    "3. **Сравнение с распространенностью:**\n",
    "   - Несмотря на то что 150.0 занимает подавляющую часть транзакций (88%), в данном графике анализируются значения, возможно, реже встречающиеся, но более подозрительные.\n",
    "\n",
    "4. **Важно для включения в модель:**\n",
    "   - Эти данные могут быть полезны для моделирования мошенничества; важно убедиться, что эти категории включены как важные признаки в алгоритмы машинного обучения.\n",
    "\n",
    "### Варианты использования признака:\n",
    "\n",
    "  - Провести исследование транзакций по выявленным значениям с высокой долей мошенничества, чтобы выявить возможные причины.\n",
    "  - Интегрировать те значения `card3`, которые показывают повышенный уровень риска, для повешения точности моделей прогнозирования мошенничества.\n"
   ]
  },
  {
   "cell_type": "markdown",
   "id": "74d9f5a1",
   "metadata": {},
   "source": [
    "### Анализ признака  card4"
   ]
  },
  {
   "cell_type": "code",
   "execution_count": null,
   "id": "8e0f2645",
   "metadata": {},
   "outputs": [],
   "source": [
    "col = 'card4'\n",
    "show_feature_details(train, col)"
   ]
  },
  {
   "cell_type": "markdown",
   "id": "c5d70f84",
   "metadata": {},
   "source": [
    "### Анализ графика признака `card4`\n",
    "\n",
    "1. **Доля мошенничества:**\n",
    "   - Карты `discover` имеют самую высокую долю мошенничества среди всех категорий. Это может указывать на более высокий риск или целенаправленные атаки, связанные с этим типом карт.\n",
    "\n",
    "2. **Чаще используемые карты:**\n",
    "   - Хотя `visa` и `mastercard` занимают наиболее значимую долю транзакций (65% и 32% соответственно), их доля мошенничества ниже, чем у `discover`.\n",
    "\n",
    "3. **Риск для менее распространенных карт:**\n",
    "   - `American Express` и `unknown` имеют более низкие доли в данных, но их уровни мошенничества также значимы, что указывает на необходимость внимательного мониторинга.\n",
    "\n",
    "### Варианты использования признака:\n",
    "\n",
    "  - Продолжать анализировать транзакции по категориям, а также исследовать возможные причины высоких уровней мошенничества для некоторых типов карт (discovered).\n",
    "  - Использовать категориальный признак `card4` в предсказательных моделях для повышения точности прогноза мошенничества."
   ]
  },
  {
   "cell_type": "markdown",
   "id": "bf6b012c",
   "metadata": {},
   "source": [
    "### Анализ признака card5"
   ]
  },
  {
   "cell_type": "code",
   "execution_count": null,
   "id": "55c6beab",
   "metadata": {},
   "outputs": [],
   "source": [
    "col = 'card5'\n",
    "show_feature_details(train, col)"
   ]
  },
  {
   "cell_type": "markdown",
   "id": "69d1fcba",
   "metadata": {},
   "source": [
    "### Анализ графика признака `card5`\n",
    "\n",
    "1. **Значительное распространение:**\n",
    "   - Наиболее распространенное значение для `card5` — это `226.0`, составляющее более половины всех записей. Такой перекос может затруднять анализ менее распространенных значений.\n",
    "\n",
    "2. **Высокий уровень мошенничества:**\n",
    "   - Значения `167.0` и `191.0` имеют высокую долю мошенничества, близкую к 1 (> 0.5) , что может указывать на значительную уязвимость или дополнительные признаки аномальной активности.\n",
    "\n",
    "3. **Разнообразие в долях:**\n",
    "   - График показывает, что доля мошенничества значительно варьируется между разными значениями `card5`, что можно использовать для выделения критичных для анализа категорий.\n",
    "\n",
    "### Варианты использования признака:\n",
    "\n",
    "  - Провести детальное исследование транзакций с `card5` значениями 167.0 и 191.0, чтобы определить возможные уязвимости или шаблоны, объясняющие высокий уровень риска.\n",
    "  - Включить разнообразие долей мошенничества по `card5` в прогнозные модели для повышения их точности при обнаружении потенциальных мошенничеств."
   ]
  },
  {
   "cell_type": "markdown",
   "id": "86fe55e7",
   "metadata": {},
   "source": [
    "### Анализ признака card6"
   ]
  },
  {
   "cell_type": "code",
   "execution_count": null,
   "id": "53a1cab1",
   "metadata": {},
   "outputs": [],
   "source": [
    "col = 'card6'\n",
    "show_feature_details(train, col)"
   ]
  },
  {
   "cell_type": "markdown",
   "id": "aa4cee73",
   "metadata": {},
   "source": [
    "### Анализ графика признака `card6`\n",
    "\n",
    "1. **Подавляющее использование дебетовых карт:**\n",
    "   - Основная часть транзакций осуществляется с дебетовыми картами (около 74%), однако доля их мошенничества ниже, чем у кредитных карт.\n",
    "\n",
    "2. **Высокий риск по кредитным картам:**\n",
    "   - Кредитные карты имеют более высокую долю мошенничества. Это может быть связано с характером кредитных операций или более высокой ценностью транзакций.\n",
    "\n",
    "3. **Неопределенные и редкие категории:**\n",
    "   - Категории `unknown`, `debit or credit` и `charge card` встречаются редко. Хотя они показывают доли мошенничества, их малое количество затрудняет выводы.\n",
    "\n",
    "### Варианты использования признака:\n",
    "\n",
    "  - Определить происхождение и характер транзакций в категории `unknown`, чтобы улучшить анализ данных.\n",
    "  - Провести детальный анализ редких категорий, чтобы понимать их потенциальные риски и принимать решения на основе полученных данных."
   ]
  },
  {
   "cell_type": "markdown",
   "id": "4c59a0c5",
   "metadata": {},
   "source": [
    "### Анализ признака addr1"
   ]
  },
  {
   "cell_type": "code",
   "execution_count": null,
   "id": "de4c966f",
   "metadata": {},
   "outputs": [],
   "source": [
    "col = 'addr1'\n",
    "show_feature_details(train, col)"
   ]
  },
  {
   "cell_type": "markdown",
   "id": "d15c1b85",
   "metadata": {},
   "source": []
  },
  {
   "cell_type": "markdown",
   "id": "1f3ed446",
   "metadata": {},
   "source": [
    "### Анализ графика признака `addr1`\n",
    "\n",
    "1. **Высокая доля мошенничества:**\n",
    "   - Значения, такие как `501.0`, `260.0`, `483.0`, `305.0`, `391.0` и другие, показывают высокую долю мошенничества, что может указывать на целевые уязвимости в этих регионах или адресах.\n",
    "\n",
    "2. **Широкий разброс:**\n",
    "   - Видно, что доля мошеннических транзакций значительно варьируется в разных адресных группах, что подчеркивает значимость данного признака для анализа рисков.\n",
    "\n",
    "3. **Категория `unknown`:**\n",
    "   - Хотя \"unknown\" имеет значительную долю в данных, его влияние на уровень мошенничества необходимо дополнительно изучать.\n",
    "\n",
    "### Варианты использования признака:\n",
    "\n",
    "  - Провести детальное исследование транзакций для адресов с наибольшими рисками, чтобы выявить потенциальные причины высокой доли мошенничества.\n",
    "  - Использовать `addr1` как важный признак в моделях машинного обучения для улучшения предсказания мошенничества.\n",
    "  - Исследовать и, возможно, корректировать записи с адресами \"unknown\", чтобы избежать искажения данных и повысить точность анализа."
   ]
  },
  {
   "cell_type": "markdown",
   "id": "34c96394",
   "metadata": {},
   "source": [
    "### Анализ признака addr2"
   ]
  },
  {
   "cell_type": "code",
   "execution_count": null,
   "id": "30d72b78",
   "metadata": {},
   "outputs": [],
   "source": [
    "col = 'addr2'\n",
    "show_feature_details(train, col)"
   ]
  },
  {
   "cell_type": "markdown",
   "id": "e094d197",
   "metadata": {},
   "source": [
    "### Анализ графика признака `addr2`\n",
    "\n",
    "1. **Доминирование значения 87.0:**\n",
    "   - Значение `87.0` составляет около 88% всех записей, что указывает на значительную концентрацию в определенном регионе или области. Это может затруднять выявление других паттернов.\n",
    "\n",
    "2. **Высокая доля мошенничества:**\n",
    "   - Значения, такие как `10.0`, `92.0` и другие, демонстрируют высокую долю мошеннических транзакций, близкую к 1, что может свидетельствовать о целенаправленных атаках на эти регионы.\n",
    "\n",
    "### Варианты использования признака:\n",
    "  - Провести дополнительное исследование транзакций из адресов с самыми высокими уровнями мошенничества, чтобы выявить возможные причины.\n",
    "  - Поскольку `87.0` занимает значительную долю, оценить, почему именно это значение столь распространено и как оно влияет на общие паттерны данных.\n",
    "  - Включить явный дисбаланс в `addr2` при построении моделей для понимания рисков и потенциальных угроз."
   ]
  },
  {
   "cell_type": "markdown",
   "id": "de032050",
   "metadata": {},
   "source": [
    "### Анализ признака P_emaildomain"
   ]
  },
  {
   "cell_type": "code",
   "execution_count": null,
   "id": "ed980c1e",
   "metadata": {},
   "outputs": [],
   "source": [
    "col = 'P_emaildomain'\n",
    "show_feature_details(train, col)"
   ]
  },
  {
   "cell_type": "markdown",
   "id": "e69c5d04",
   "metadata": {},
   "source": [
    "### Анализ графика признака `P_emaildomain`\n",
    "\n",
    "1. **Высокий уровень мошенничества у определённых провайдеров:**\n",
    "   - `protonmail.com` имеет наивысшую долю мошенничества среди доменов, что может указывать на его популярность среди злоумышленников.\n",
    "\n",
    "2. **Распространённые домены:**\n",
    "   - `gmail.com` и `yahoo.com` являются самыми распространёнными доменами, но их доля мошенничества намного ниже, по сравнению с другими доменами.\n",
    "\n",
    "3. **Роль \"unknown\":**\n",
    "   - Категория `unknown` составляет значительную часть данных, и её влияние на общие паттерны неясно, что требует дополнительного изучения.\n",
    "\n",
    "### Варианты использования признака:\n",
    "\n",
    "  - Исследовать записи с `unknown` доменами для понимания их природы и потенциальных рисков."
   ]
  },
  {
   "cell_type": "markdown",
   "id": "3f002935",
   "metadata": {},
   "source": [
    "### Анализ признака  R_emaildomain"
   ]
  },
  {
   "cell_type": "code",
   "execution_count": null,
   "id": "72856b5c",
   "metadata": {},
   "outputs": [],
   "source": [
    "col = 'R_emaildomain'\n",
    "show_feature_details(train, col)"
   ]
  },
  {
   "cell_type": "markdown",
   "id": "a6c14394",
   "metadata": {},
   "source": [
    "### Анализ графика признака `R_emaildomain`\n",
    "\n",
    "1. **Высокая доля \"unknown\":**\n",
    "   - Категория `unknown` доминирует (76.7%) среди записей, что указывает на недостаток информации о получателе в большинстве транзакций. Это затрудняет анализ распределения остальных категорий.\n",
    "\n",
    "2. **Высокая доля мошенничества у `protonmail.com`:**\n",
    "   - `protonmail.com` имеет наибольшую долю мошенничества, что требует внимания и возможно, повышенного мониторинга таких транзакций.\n",
    "\n",
    "3. **Низкое распределение по другим категориям:**\n",
    "   - Очень малая доля пользователей на gmail.com, hotmail.com и других популярных доменах указана как получатели. Это может указывать на особенности данных или стратегию мошенников.\n",
    "\n",
    "### Варианты использования признака:\n",
    "\n",
    "  - Углубленный анализ данных без известных доменов может помочь понять логику транзакций и выявить скрытые риски.\n",
    "  - Изучить транзакции с известными, но менее представленными доменами и понять их роль в общем контексте."
   ]
  },
  {
   "cell_type": "markdown",
   "id": "29f44bff",
   "metadata": {},
   "source": [
    "### Анализ признака  DeviceType"
   ]
  },
  {
   "cell_type": "code",
   "execution_count": null,
   "id": "85d0beb1",
   "metadata": {},
   "outputs": [],
   "source": [
    "col = 'DeviceType'\n",
    "show_feature_details(train, col)"
   ]
  },
  {
   "cell_type": "markdown",
   "id": "d86a5a9b",
   "metadata": {},
   "source": [
    "### Анализ графика признака `DeviceType`\n",
    "\n",
    "1. **Преобладание категории \"unknown\":**\n",
    "   - Большинство записей (76.2%) не указывают тип устройства, что затрудняет анализ и требует дополнительной интерпретации данных.\n",
    "\n",
    "2. **Мошенничество на мобильных устройствах:**\n",
    "   - Мобильные устройства показывают более высокую долю мошенничества по сравнению с другими категориями, что может указывать на уязвимость этих устройств.\n",
    "\n",
    "3. **Процент использования:**\n",
    "   - `desktop` и `mobile` составляют меньшую долю, но все еще значимы для анализа пользовательского поведения."
   ]
  },
  {
   "cell_type": "markdown",
   "id": "c50e4173",
   "metadata": {},
   "source": [
    "### Анализ признака  DeviceInfo"
   ]
  },
  {
   "cell_type": "code",
   "execution_count": null,
   "id": "31578307",
   "metadata": {},
   "outputs": [],
   "source": [
    "col = 'DeviceInfo'\n",
    "show_feature_details(train, col)"
   ]
  },
  {
   "cell_type": "markdown",
   "id": "fb3c43f4",
   "metadata": {},
   "source": [
    "### Анализ графика признака `DeviceInfo`\n",
    "\n",
    "1. **Преобладание \"unknown\":**\n",
    "   - Подавляющее большинство записей (79.9%) не содержат информации об устройстве, что создаёт значительную неопределённость.\n",
    "\n",
    "2. **Высокий уровень мошенничества у отдельных устройств:**\n",
    "   - Устройства, такие как `Beat`, `NOKIA`, и некоторые другие специфические модели, показывают очень высокую долю мошенничества, что требует дополнительного внимания.\n",
    "\n",
    "3. **Доля популярных устройств:**\n",
    "   - `Windows`, `iOS Device`, и `MacOS` представлены в меньшей степени, с более низким уровнем мошенничества.\n",
    "\n",
    "### Варианты использования признака:\n",
    "  - Провести подробное исследование и мониторинг устройств с высокой долей мошенничества.\n",
    "  - Уменьшить кол-во типов устройст"
   ]
  },
  {
   "cell_type": "code",
   "execution_count": null,
   "id": "20def318",
   "metadata": {},
   "outputs": [],
   "source": [
    "exclude = [\n",
    "    'ProductCD', \n",
    "    'card1', \n",
    "    'card2', \n",
    "    'card3', \n",
    "    'card4', \n",
    "    'card5', \n",
    "    'card6', \n",
    "    'addr1', \n",
    "    'addr2', \n",
    "    'P_emaildomain', \n",
    "    'R_emaildomain', \n",
    "    'DeviceType',\n",
    "    'DeviceInfo'\n",
    "]\n",
    "\n",
    "for col in categorical_features:\n",
    "    if col in exclude:\n",
    "        continue\n",
    "    \n",
    "    print(f'\\nАнализ признака: {col}')\n",
    "    print(train[col].value_counts(normalize=True).head(10))\n",
    "\n",
    "    fraud_rate = train.groupby(col)['isFraud'].mean().sort_values(ascending=False)\n",
    "    plt.figure(figsize=(12,4))\n",
    "    fraud_rate.head(10).plot(kind='bar')\n",
    "    plt.title(f'Доля мошенничества по {col}')\n",
    "    plt.ylabel('Доля мошенничества')\n",
    "    plt.show()\n"
   ]
  },
  {
   "cell_type": "markdown",
   "id": "480f2c98",
   "metadata": {},
   "source": [
    "### 5. Анализ числовых признаков"
   ]
  },
  {
   "cell_type": "markdown",
   "id": "f5acd48b",
   "metadata": {},
   "source": [
    "#### Анализ признака  dist1"
   ]
  },
  {
   "cell_type": "code",
   "execution_count": null,
   "id": "e7ad4d48",
   "metadata": {},
   "outputs": [],
   "source": [
    "col = 'dist1'\n",
    "plt.figure(figsize=(14,6))\n",
    "sns.kdeplot(data=train, x=col, hue='isFraud', common_norm=False)\n",
    "plt.title(f'Распределение {col} для разных классов')\n",
    "plt.show()\n"
   ]
  },
  {
   "cell_type": "markdown",
   "id": "945f81b7",
   "metadata": {},
   "source": [
    "### Анализ графика признака `dist1`\n",
    "\n",
    "1. **Сосредоточенность значений:**\n",
    "   - Большинство значений `dist1` сконцентрировано около 0, что отображается высоким пиком в левой части графика для обоих классов (`isFraud` = 0 и 1).\n",
    "\n",
    "2. **Сходство распределений:**\n",
    "   - Обе кривые (для мошеннических и немошеннических транзакций) имеют схожие формы и убывают относительно быстро, что указывает на распределение данных, близкое к нормальному.\n",
    "\n",
    "3. **Редкие большие значения:**\n",
    "   - Есть небольшое количество более высоких значений, растягивающее распределение вправо, что может указывать на аномальные или редкие случаи транзакций.\n",
    "\n",
    "### Что можно сделать с признаком:\n",
    "\n",
    "- **Дополнительный анализ редких значений:**\n",
    "  - Провести исследование аномально больших значений `dist1`, чтобы выявить потенциальные риски и особенности.\n",
    "\n",
    "- **Оценка значимости:**\n",
    "  - Определить, действительно ли `dist1` является значимым признаком для выявления мошенничества в этой выборке, учитывая его схожесть для обоих классов."
   ]
  },
  {
   "cell_type": "markdown",
   "id": "67c6deef",
   "metadata": {},
   "source": [
    "#### Анализ признака  dist2"
   ]
  },
  {
   "cell_type": "code",
   "execution_count": null,
   "id": "70765701",
   "metadata": {},
   "outputs": [],
   "source": [
    "col = 'dist2'\n",
    "plt.figure(figsize=(14,6))\n",
    "sns.kdeplot(data=train, x=col, hue='isFraud', common_norm=False)\n",
    "plt.title(f'Распределение {col} для разных классов')\n",
    "plt.show()\n"
   ]
  },
  {
   "cell_type": "markdown",
   "id": "590d3b4b",
   "metadata": {},
   "source": [
    "### Анализ графика признака `dist2`\n",
    "\n",
    "1. **Концентрация значений:**\n",
    "   - Большинство значений `dist2` также сконцентрировано около 0, аналогично `dist1`.\n",
    "\n",
    "2. **Схожесть распределений:**\n",
    "   - Наблюдается сильное перекрытие между распределениями для мошеннических (`isFraud` = 1) и немошеннических (`isFraud` = 0) транзакций, указывая на отсутствие явных различий.\n",
    "\n",
    "3. **Хвосты распределения:**\n",
    "   - Небольшое количество более высоких значений, растягивающее распределение вправо. Это говорит о редких случаях, которые могут быть аномальными.\n",
    "\n",
    "### Что можно сделать с признаком:\n",
    "\n",
    "- **Анализ аномалий:**\n",
    "  - Изучить редкие большие значения в `dist2`, чтобы понять, могут ли они сигнализировать о мошенничестве или ошибках.\n",
    "\n",
    "- **Важность признака:**\n",
    "  - Оценить значимость `dist2` для моделей предсказания, так как его схожесть для обоих классов может ограничивать его полезность."
   ]
  },
  {
   "cell_type": "markdown",
   "id": "422b0765",
   "metadata": {},
   "source": [
    "### Обзор остальных признаков"
   ]
  },
  {
   "cell_type": "code",
   "execution_count": null,
   "id": "c185af3c",
   "metadata": {},
   "outputs": [],
   "source": [
    "exclude = [\n",
    "    'isFraud',\n",
    "    'TransactionID',\n",
    "    'TransactionDT',\n",
    "    'dist1',\n",
    "    'dist2', \n",
    "]\n",
    "\n",
    "for col in numeric_features:\n",
    "    if col in exclude:\n",
    "        continue\n",
    "\n",
    "    \n",
    "    plt.figure(figsize=(14,6))\n",
    "    sns.kdeplot(data=train, x=col, hue='isFraud', common_norm=False)\n",
    "    plt.title(f'Распределение {col} для разных классов')\n",
    "    plt.show()\n"
   ]
  },
  {
   "cell_type": "markdown",
   "id": "d0edf332",
   "metadata": {},
   "source": [
    "> Если рассматривать графики в целом по всем признакам. То можно сделать вывдол что в каждом графике график класса 0 и 1 повтаряют друг друго (только с разной амплитудой и иногда с небольшим смещением)"
   ]
  },
  {
   "cell_type": "markdown",
   "id": "5e5d3ca5",
   "metadata": {},
   "source": [
    "### 6. Корреляции"
   ]
  },
  {
   "cell_type": "code",
   "execution_count": null,
   "id": "6cc646af",
   "metadata": {},
   "outputs": [],
   "source": [
    "# Корреляционная матрица всех числовых признаков\n",
    "plt.figure(figsize=(20, 16))\n",
    "corr_matrix = train[numeric_features].corr()\n",
    "sns.heatmap(corr_matrix, cmap='coolwarm', center=0)\n",
    "plt.title('Карта корреляций всех числовых признаков')\n",
    "plt.show()\n",
    "\n",
    "# Корреляция признаков с isFraud\n",
    "plt.figure(figsize=(12,8))\n",
    "fraud_corr.head(20).plot(kind='barh')\n",
    "plt.title('Корреляция признаков с isFraud')\n",
    "plt.show()\n"
   ]
  },
  {
   "cell_type": "markdown",
   "id": "9a4c0719",
   "metadata": {},
   "source": [
    "### 7. Поиск выбросов"
   ]
  },
  {
   "cell_type": "code",
   "execution_count": null,
   "id": "c797607a",
   "metadata": {},
   "outputs": [],
   "source": [
    "key_features = ['TransactionAmt', 'dist1', 'dist2', 'D1', 'D2']\n",
    "for col in key_features:\n",
    "    if col in train.columns:\n",
    "        plt.figure(figsize=(12,6))\n",
    "        sns.boxplot(x='isFraud', y=col, data=train)\n",
    "        plt.title(f'Boxplot {col} по классам')\n",
    "        plt.show()\n"
   ]
  },
  {
   "cell_type": "markdown",
   "id": "47ea789d",
   "metadata": {},
   "source": [
    "## Минимальная обработка признаков"
   ]
  },
  {
   "cell_type": "markdown",
   "id": "5e02c164",
   "metadata": {},
   "source": [
    "### 1. Обработка редких категорий\n"
   ]
  },
  {
   "cell_type": "code",
   "execution_count": null,
   "id": "e5628e42",
   "metadata": {},
   "outputs": [],
   "source": [
    "#for col in categorical_features:\n",
    "#    rare_values = train[col].value_counts()[train[col].value_counts() < 10].index\n",
    "#    train[col] = train[col].apply(lambda x: 'rare' if x in rare_values else x)\n",
    "#    print(f'Признак {col}: заменено {len(rare_values)} редких категорий на \"rare\"')\n"
   ]
  },
  {
   "cell_type": "markdown",
   "id": "1a5eaf34",
   "metadata": {},
   "source": [
    "### 2. Обработка TransactionDT"
   ]
  },
  {
   "cell_type": "markdown",
   "id": "a35bd2cc",
   "metadata": {},
   "source": [
    "> Важно! Так как `TransactionDT` - Временная метка (в секундах от некой базовой точки), то преобразования в новые признаки условное Так как у нас нет базовой точки отсчета (Предполагаю что это транзакции за какието  месяца 2018 года, но это предположение). Но как мне кажется даже в этом случае можно проследить тенденции"
   ]
  },
  {
   "cell_type": "code",
   "execution_count": null,
   "id": "64ea185d",
   "metadata": {},
   "outputs": [],
   "source": [
    "# на всякий случай отсортируем по TransactionDT\n",
    "train = train.sort_values('TransactionDT')\n",
    "\n",
    "# Найдем минимальное значение\n",
    "min_timestamp = train['TransactionDT'].min()\n",
    "\n",
    "# Преобразуем временные метки относительно минимальной\n",
    "train['Relative_TransactionDT'] = train['TransactionDT'] - min_timestamp\n",
    "\n",
    "# Преобразуем в дни, часы, минуты и т.д.\n",
    "train['Transaction_day'] = train['Relative_TransactionDT'] // (24 * 60 * 60)  # в днях\n",
    "train['Transaction_hour'] = (train['Relative_TransactionDT'] // 3600) % 24  # в часах\n",
    "train['Transaction_weekday'] = (train['Relative_TransactionDT'] // (3600*24)) % 7\n",
    "train['Transaction_day'] = train['Transaction_day'].astype(int)\n",
    "train['Transaction_hour'] = train['Transaction_hour'].astype(int)\n",
    "train['Transaction_weekday'] = train['Transaction_weekday'].astype(int)\n",
    "\n",
    "# Новые признаки на основе TransactionDT\n",
    "#train['weekday'] = (train['TransactionDT'] // (3600*24)) % 7\n",
    "#train['hour'] = (train['TransactionDT'] // 3600) % 24\n"
   ]
  },
  {
   "cell_type": "markdown",
   "id": "6e71593f",
   "metadata": {},
   "source": [
    "### 3. Обработка 'P_emaildomain', 'R_emaildomain'"
   ]
  },
  {
   "cell_type": "code",
   "execution_count": null,
   "id": "6a9cd93e",
   "metadata": {},
   "outputs": [],
   "source": [
    "\n",
    "# Группировка email-доменов\n",
    "#email_domains = {\n",
    "#    'google': 'gmail', 'gmail': 'gmail', 'att.net': 'other', 'twc.com': 'other',\n",
    "#    'scranton.edu': 'other', 'verizon.net': 'other', 'protonmail.com': 'other',\n",
    "#    'aol.com': 'aol', 'hotmail.com': 'hotmail', 'yahoo.com': 'yahoo', \n",
    "#    'yahoo.com.mx': 'yahoo', 'outlook.com': 'microsoft', 'icloud.com': 'apple'\n",
    "#}\n",
    "#for col in ['P_emaildomain', 'R_emaildomain']:\n",
    "#    if col in train.columns:\n",
    "#        train[col] = train[col].apply(lambda x: email_domains.get(x.split('.')[0], 'other'))"
   ]
  },
  {
   "cell_type": "markdown",
   "id": "3714bacd",
   "metadata": {},
   "source": [
    "### 4. TransactionAmt - Анализ и очистка выбросов"
   ]
  },
  {
   "cell_type": "code",
   "execution_count": null,
   "id": "8f7e7e82",
   "metadata": {},
   "outputs": [],
   "source": [
    "import matplotlib.pyplot as plt\n",
    "import seaborn as sns\n",
    "import numpy as np\n",
    "\n",
    "# Построим boxplot для анализа выбросов в TransactionAMT\n",
    "plt.figure(figsize=(10, 6))\n",
    "sns.boxplot(x=train['TransactionAmt'])\n",
    "plt.title('Boxplot для признака TransactionAMT')\n",
    "plt.show()\n",
    "\n",
    "# Рассчитаем статистику для выявления выбросов\n",
    "q1 = train['TransactionAmt'].quantile(0.25)  # 25-й перцентиль\n",
    "q3 = train['TransactionAmt'].quantile(0.75)  # 75-й перцентиль\n",
    "iqr = q3 - q1  # Интерквартильный размах\n",
    "\n",
    "lower_bound = q1 - 1.5 * iqr\n",
    "upper_bound = q3 + 1.5 * iqr\n",
    "\n",
    "print(f\"Границы для выбросов: {lower_bound:.2f} - {upper_bound:.2f}\")\n",
    "\n",
    "# Выбросы — это значения, которые лежат за пределами этих границ\n",
    "outliers = train[(train['TransactionAmt'] < lower_bound) | (train['TransactionAmt'] > upper_bound)]\n",
    "print(f\"Число выбросов в TransactionAmt: {outliers.shape[0]}\")\n",
    "print(outliers[['TransactionAmt', 'isFraud']].head())\n"
   ]
  },
  {
   "cell_type": "markdown",
   "id": "c4f23eb8",
   "metadata": {},
   "source": [
    "### Что делать с выбросами:\n",
    "\n",
    "#### 1 Понимание контекста данных:\n",
    "\n",
    "\n",
    "Сначала нужно проанализировать, не являются ли эти выбросы важными. Например, большие транзакции могут быть связаны с мошенничеством, и важно определить, как они коррелируют с целевой переменной isFraud. Для этого можно исследовать, какой процент мошенничеств происходит среди этих выбросов."
   ]
  },
  {
   "cell_type": "code",
   "execution_count": null,
   "id": "7f9b8eb4",
   "metadata": {},
   "outputs": [],
   "source": [
    "# Анализируем выбросы по классу isFraud\n",
    "outliers_fraud = outliers['isFraud'].value_counts(normalize=True)\n",
    "print(f\"Распределение классов среди выбросов: {outliers_fraud}\")\n"
   ]
  },
  {
   "cell_type": "markdown",
   "id": "fb1eda3e",
   "metadata": {},
   "source": [
    "#### 2 Визуализация выбросов"
   ]
  },
  {
   "cell_type": "markdown",
   "id": "e3e67d0f",
   "metadata": {},
   "source": [
    "Построим график, который покажет, как выбросы соотносятся с транзакциями. Это поможет понять, стоит ли их удалять или оставлять."
   ]
  },
  {
   "cell_type": "code",
   "execution_count": null,
   "id": "01053611",
   "metadata": {},
   "outputs": [],
   "source": [
    "# Визуализация выбросов на графике\n",
    "plt.figure(figsize=(12, 6))\n",
    "sns.histplot(train[train['isFraud'] == 0]['TransactionAmt'], kde=True, color='blue', label='Честные транзакции')\n",
    "sns.histplot(train[train['isFraud'] == 1]['TransactionAmt'], kde=True, color='red', label='Мошеннические транзакции')\n",
    "plt.axvline(x=lower_bound, color='black', linestyle='--', label='Нижняя граница выброса')\n",
    "plt.axvline(x=upper_bound, color='black', linestyle='--', label='Верхняя граница выброса')\n",
    "plt.legend()\n",
    "plt.title('Распределение суммы транзакций по классам')\n",
    "plt.show()\n"
   ]
  },
  {
   "cell_type": "markdown",
   "id": "c0ed360f",
   "metadata": {},
   "source": [
    "Распределение классов среди выбросов показывает, что **только 5.07%** выбросов — это мошенничество (**`isFraud = 1`**), в то время как большинство выбросов (94.93%) приходится на честные транзакции (**`isFraud = 0`**).\n",
    "\n",
    "### Выводы:\n",
    "\n",
    "1. **Мошенничество среди выбросов**:\n",
    "   - Это относительно небольшая доля. Это может означать, что выбросы, скорее всего, представляют собой редкие или экстраординарные транзакции, которые не обязательно связаны с мошенничеством. Возможно, это крупные, но не мошеннические транзакции.\n",
    "\n",
    "2. **Что с этим делать**:\n",
    "   - Поскольку мошенничество среди выбросов — это небольшая доля, можно рассматривать два подхода:\n",
    "     - **Удалить выбросы**: Если выбросы действительно ошибочные или экстремальные, можно их удалить, так как они составляют меньшую часть данных.\n",
    "     - **Оставить выбросы**: Поскольку они не столь сильно влияют на класс мошенничества, можно оставить их в данных, если они не слишком искажают общую картину.\n",
    "\n",
    "В случае, если выбросы оставляем, то можно **применить трансформации**, такие как логарифмическое преобразование или бинирование."
   ]
  },
  {
   "cell_type": "markdown",
   "id": "97fb0813",
   "metadata": {},
   "source": [
    "Для **антифродовой задачи** (предсказания мошенничества), важным фактором является правильная обработка признаков, таких как сумма транзакции, чтобы модель могла эффективно различать мошеннические и честные транзакции, особенно когда суммы могут сильно варьироваться.\n",
    "\n",
    "\n",
    "Для антифродовой задачи начнем с **логарифмирования**, так как это позволит модели учитывать широкий диапазон транзакций (включая большие суммы, которые могут быть мошенническими), не теряя важную информацию. Но и применим **бинирование** как дополнительный шаг для анализа и для улучшения интерпретируемости модели.\n"
   ]
  },
  {
   "cell_type": "code",
   "execution_count": null,
   "id": "c17b0c78",
   "metadata": {},
   "outputs": [],
   "source": [
    "import numpy as np\n",
    "\n",
    "# Преобразование столбца TransactionAMT\n",
    "df_modified['log_TransactionAmt'] = np.log1p(df_modified['TransactionAmt'])"
   ]
  },
  {
   "cell_type": "code",
   "execution_count": null,
   "id": "6c479669",
   "metadata": {},
   "outputs": [],
   "source": [
    "\n",
    "bins = [0, 100, 1000, 5000, 10000, np.inf]\n",
    "labels = ['Low', 'Medium', 'High', 'Very High', 'Extremely High']\n",
    "\n",
    "df_modified['TransactionAmt_binned'] = pd.cut(df_modified['TransactionAmt'], bins=bins, labels=labels)\n",
    "\n",
    "# Альтернативный способ:  Биннинг суммы транзакции по квантилям\n",
    "#train['TransactionAmt_bin'] = pd.qcut(train['TransactionAmt'], q=10, duplicates='drop')\n"
   ]
  },
  {
   "cell_type": "markdown",
   "id": "47f7f1c2",
   "metadata": {},
   "source": [
    "#### Добавление признака выброса\n",
    "\n",
    "Чтобы модель могла учитывать выбросы и их связь с мошенничеством, можно добавить новый признак, который будет отмечать, является ли транзакция выбросом."
   ]
  },
  {
   "cell_type": "code",
   "execution_count": null,
   "id": "82ef9dc1",
   "metadata": {},
   "outputs": [],
   "source": [
    "df_modified['isOutlier'] = ((train['TransactionAmt'] < lower_bound) | (train['TransactionAmt'] > upper_bound)).astype(int)"
   ]
  },
  {
   "cell_type": "markdown",
   "id": "23d0d971",
   "metadata": {},
   "source": [
    "Это поможет модели явно учитывать, что транзакция относится к выбросам, что может быть полезно для предсказания мошенничества."
   ]
  },
  {
   "cell_type": "code",
   "execution_count": null,
   "id": "fb83c68a",
   "metadata": {},
   "outputs": [],
   "source": [
    "df_modified[['TransactionAmt', 'log_TransactionAmt', 'TransactionAmt_binned']].describe()"
   ]
  },
  {
   "cell_type": "code",
   "execution_count": null,
   "id": "5477c543",
   "metadata": {},
   "outputs": [],
   "source": [
    "# Распределение сумм транзакций\n",
    "plt.figure(figsize=(14,6))\n",
    "sns.histplot(data=df_modified, x='log_TransactionAmt', hue='isFraud', bins=100, log_scale=True, kde=True)\n",
    "plt.title('Распределение суммы транзакций в зависимости от мошенничества')\n",
    "plt.xlabel('Log Сумма транзакции')\n",
    "plt.show()\n"
   ]
  },
  {
   "cell_type": "markdown",
   "id": "e1dc9a32",
   "metadata": {},
   "source": []
  },
  {
   "cell_type": "markdown",
   "id": "1b12eb93",
   "metadata": {},
   "source": [
    "## Отбор признаков"
   ]
  },
  {
   "cell_type": "markdown",
   "id": "67b37b12",
   "metadata": {},
   "source": [
    "## 1. Возьмем все признаки\n",
    "\n",
    "Для начала попробует взять все признаки с минимальной обработкой для обучения базовых моделей."
   ]
  },
  {
   "cell_type": "markdown",
   "id": "9a172257",
   "metadata": {},
   "source": [
    "## 2. **Минимальная обработка признаков**\n",
    "- Для числовых — оставим как есть или логарифмируем.\n",
    "- Для категориальных — **Label Encoding** или **One-Hot Encoding**.\n",
    "- **Без сложных** feature engineering.\n",
    "\n",
    "Идея baseline:  \n",
    "> \"Проверить, возможно ли получить приемлемое качество на существующем датасете без сложной обработки.\""
   ]
  },
  {
   "cell_type": "markdown",
   "id": "3dec4ee6",
   "metadata": {},
   "source": [
    "## 3. **Строим baseline модель**\n",
    "Типичная связка:\n",
    "- Модель: `LightGBM`, `CatBoost`, `XGBoost`, `LogisticRegression`, `RandomForest`.\n",
    "- Потери: **LogLoss**, **AUC ROC**.\n",
    "\n",
    "Просто запускаем без оптимизаций. Смотрим, **какое качество вообще возможно без ухищрений**."
   ]
  },
  {
   "cell_type": "markdown",
   "id": "4042fb32",
   "metadata": {},
   "source": [
    "# 🧠 Главное правило baseline:\n",
    "> Сделать настолько простую модель, чтобы потом точно видеть — где улучшения работают."
   ]
  },
  {
   "cell_type": "code",
   "execution_count": null,
   "id": "b70edc6a",
   "metadata": {},
   "outputs": [],
   "source": [
    "#base_columns = [\n",
    "#    'isFraud',\n",
    "#    'log_TransactionAmt',\n",
    "#    'TransactionAmt_binned',\n",
    "#    'ProductCD',\n",
    "#    'card4',\n",
    "#    'card6',\n",
    "#    'Transaction_hour', \n",
    "#    'Transaction_weekday',\n",
    "#    'P_emaildomain',\n",
    "#    #'DeviceType',\n",
    "#    #'DeviceInfo'\n",
    "#]\n",
    "\n",
    "#df_modified[base_columns].head()"
   ]
  },
  {
   "cell_type": "code",
   "execution_count": null,
   "id": "3a3ab9fb",
   "metadata": {},
   "outputs": [],
   "source": [
    "from sklearn.calibration import LabelEncoder\n",
    "from sklearn.preprocessing import StandardScaler\n",
    "\n",
    "#numeric_features = ['log_TransactionAmt', 'Transaction_hour', 'Transaction_weekday']\n",
    "#categorical_features = ['ProductCD', 'card4', 'card6', 'P_emaildomain', 'DeviceType', 'DeviceInfo']\n",
    "\n",
    "# Числовые и категориальные признаки\n",
    "numeric_features = df_modified.select_dtypes(include=['number']).columns\n",
    "categorical_features = df_modified.select_dtypes(include=['object', 'category']).columns\n",
    "\n",
    "base_train = df_modified.copy()\n",
    "\n",
    "\n",
    "\n",
    "# Легкая предобработка\n",
    "for col in categorical_features:\n",
    "    #base_train[col] = base_train[col].fillna('unknown')\n",
    "    base_train[col] = base_train[col].astype(str)\n",
    "    le = LabelEncoder()\n",
    "    base_train[col] = le.fit_transform(base_train[col])\n",
    "\n",
    "\n",
    "\n",
    "# 2. Обработка числовых признаков (заполнение пропусков медианой)\n",
    "#scaler = StandardScaler()\n",
    "#base_train[numeric_features] = scaler.fit_transform(base_train[numeric_features])\n",
    "\n",
    "\n",
    "base_train.head()"
   ]
  },
  {
   "cell_type": "code",
   "execution_count": null,
   "id": "be611d64",
   "metadata": {},
   "outputs": [],
   "source": [
    "base_train.to_csv('../data/processing/df_preprocessing.csv', index=False)"
   ]
  },
  {
   "cell_type": "code",
   "execution_count": null,
   "id": "73c20361",
   "metadata": {},
   "outputs": [],
   "source": [
    "# Простая модель\n",
    "#X = base_train[numeric_features + categorical_features]\n",
    "X = base_train.drop(labels=['TransactionID', 'TransactionDT', 'Relative_TransactionDT', 'TransactionAmt', 'isOutlier',  'isFraud'], axis=1)\n",
    "y = base_train['isFraud']"
   ]
  },
  {
   "cell_type": "markdown",
   "id": "5e0bd81d",
   "metadata": {},
   "source": [
    "1. **Разделим данные на обучение и валидацию.**\n",
    "   - Если это транзакции во времени (как в фроде) — разбиение должно быть аккуратным, **без перемешивания**.\n",
    "   - Иначе — стандартное `train_test_split`."
   ]
  },
  {
   "cell_type": "code",
   "execution_count": null,
   "id": "43984016",
   "metadata": {},
   "outputs": [],
   "source": [
    "from sklearn.model_selection import train_test_split\n",
    "\n",
    "X_train, X_val, y_train, y_val = train_test_split(\n",
    "    X, y, test_size=0.2, shuffle=False\n",
    ")"
   ]
  },
  {
   "cell_type": "markdown",
   "id": "1ed89125",
   "metadata": {},
   "source": [
    "### LogisticRegression"
   ]
  },
  {
   "cell_type": "code",
   "execution_count": null,
   "id": "19f826a2",
   "metadata": {},
   "outputs": [],
   "source": [
    "y_train.head()"
   ]
  },
  {
   "cell_type": "code",
   "execution_count": null,
   "id": "9a801c71",
   "metadata": {},
   "outputs": [],
   "source": [
    "from sklearn.linear_model import LogisticRegression\n",
    "\n",
    "model = LogisticRegression(random_state=42)\n",
    "model.fit(X_train, y_train)"
   ]
  },
  {
   "cell_type": "code",
   "execution_count": null,
   "id": "f38f2399",
   "metadata": {},
   "outputs": [],
   "source": [
    "eval(model, X_val, y_val)"
   ]
  },
  {
   "cell_type": "markdown",
   "id": "99e30296",
   "metadata": {},
   "source": [
    "### Анализ метрик и графиков базовой модели LogisticRegression\n",
    "\n",
    "#### Метрики\n",
    "\n",
    "1. **Recall (Полнота): 0.0148**\n",
    "   - Низкое значение полноты указывает на то, что модель обнаруживает лишь небольшую долю истинных положительных классов. Это может означать, что многие случаи остаются недетектированными.\n",
    "\n",
    "2. **ROC-AUC: 0.6914**\n",
    "   - Значение выше 0.5, но близкое к нему, что говорит о базовой способности модели различать классы. Однако это можно улучшить.\n",
    "\n",
    "3. **PR-AUC: 0.0777**\n",
    "   - Низкое значение PR-AUC указывает на ограниченную точность модели в условиях дисбаланса классов. Модель плохо справляется с обнаружением положительных примеров.\n",
    "\n",
    "#### ROC-кривая\n",
    "\n",
    "- Кривая показывает, что модель имеет лучшую производительность, чем случайная, но остаётся достаточно посредственной.\n",
    "- Пространство между кривой и диагональной линией \"случайного угадывания\" небольошое, что указывает на необходимость улучшения модели.\n",
    "\n",
    "#### PR-кривая\n",
    "\n",
    "- PR-кривая лежит близко к осям, подтверждая низкую точность в условиях низкой полноты.\n",
    "- Модель сталкивается с проблемами в задачах, где положительные наблюдения редки или распределены неравномерно.\n",
    "\n",
    "### Как можно улучшенить\n",
    "\n",
    "1. **Улучшение выборки:**\n",
    "   - Рассмотреть методы корректировки дисбаланса классов, такие как oversampling или undersampling.\n",
    "\n",
    "2. **Тюнинг модели:**\n",
    "   - Провести настройку гиперпараметров модели с использованием поиска по сетке или байесовской оптимизации.\n",
    "\n",
    "3. **Сложные модели:**\n",
    "   - Попробовать более сложные модели, такие как Random Forest, Gradient Boosting или нейронные сети.\n",
    "\n",
    "4. **Добавление признаков:**\n",
    "   - Исследовать возможность создания и добавления новых признаков, которые могут повысить объяснительную силу модели."
   ]
  },
  {
   "cell_type": "markdown",
   "id": "ae3cbf4d",
   "metadata": {},
   "source": [
    "### RandomForest"
   ]
  },
  {
   "cell_type": "code",
   "execution_count": null,
   "id": "e821cfc7",
   "metadata": {},
   "outputs": [],
   "source": [
    "from sklearn.ensemble import RandomForestClassifier\n",
    "\n",
    "model = RandomForestClassifier(random_state=42)\n",
    "model.fit(X_train, y_train)"
   ]
  },
  {
   "cell_type": "code",
   "execution_count": null,
   "id": "0b60ded5",
   "metadata": {},
   "outputs": [],
   "source": [
    "# Получение важности признаков\n",
    "importances = model.feature_importances_\n",
    "\n",
    "# Создание списка признаков с их важностями\n",
    "feature_names = X_train.columns  # или просто список имен признаков\n",
    "important_features = list(zip(feature_names, importances))\n",
    "\n",
    "# Сортировка по важности\n",
    "important_features.sort(key=lambda x: x[1], reverse=True)\n",
    "\n",
    "# Отображение наиболее важных признаков\n",
    "for feature in important_features:\n",
    "    print(f\"Feature: {feature[0]}, Importance: {feature[1]}\")"
   ]
  },
  {
   "cell_type": "code",
   "execution_count": null,
   "id": "344afba8",
   "metadata": {},
   "outputs": [],
   "source": [
    "eval(model, X_val, y_val)"
   ]
  },
  {
   "cell_type": "markdown",
   "id": "42ccf0f3",
   "metadata": {},
   "source": [
    "### Анализ метрик и графиков базовой модели RandomForestClassifier\n",
    "\n",
    "#### Метрики\n",
    "\n",
    "1. **Recall (Полнота): 0.3581**\n",
    "   - Сравнительно высокое значение полноты указывает на способность модели обнаруживать значительное количество истинных положительных классов по сравнению с предыдущей моделью.\n",
    "\n",
    "2. **ROC-AUC: 0.8946**\n",
    "   - Высокое значение ROC-AUC демонстрирует хорошую способность модели различать классы. Это показывает, что модель справляется с задачей лучше, чем просто случайное угадывание.\n",
    "\n",
    "3. **PR-AUC: 0.5084**\n",
    "   - Значение PR-AUC выше, чем у LogisticRegression, указывая на лучшую точность в задачах с дисбалансом классов.\n",
    "\n",
    "#### ROC-кривая\n",
    "\n",
    "- ROC-кривая сильно выгнута вверх, подтверждая высокую точность модели в различении классов.\n",
    "- Модель демонстрирует хороший баланс между чувствительностью (True Positive Rate) и специфичностью (False Positive Rate).\n",
    "\n",
    "#### PR-кривая\n",
    "\n",
    "- Кривая выше и более плавная, чем у LogisticRegression, указывая на лучшее качество работы модели в условиях дисбаланса.\n",
    "- Сохранение относительно высокого уровня precision при увеличении recall показывает эффективность модели.\n",
    "\n",
    "### Как можно улучшенить\n",
    "\n",
    "1. **Тюнинг гиперпараметров:**\n",
    "   - Оптимизация параметров модели (например, количество деревьев, глубина) может ещё больше улучшить производительность.\n",
    "\n",
    "2. **Учет важности признаков:**\n",
    "   - Провести анализ важности признаков, чтобы понять, какие из них оказывают большее влияние, и подумать о возможном добавлении новых.\n",
    "\n",
    "3. **Тюнинг порога:**\n",
    "   - Рассмотреть возможность изменения порога вероятности для повышения полноты или точности в зависимости от цели задачи.\n",
    "\n",
    "4. **Увеличение данных:**\n",
    "   - Если возможно, расширение объема данных может улучшить обучение модели."
   ]
  },
  {
   "cell_type": "markdown",
   "id": "e746d919",
   "metadata": {},
   "source": [
    "### Поиск наилучших гиперпараметров"
   ]
  },
  {
   "cell_type": "code",
   "execution_count": null,
   "id": "4b7aae67",
   "metadata": {},
   "outputs": [],
   "source": [
    "import optuna\n",
    "from sklearn.ensemble import RandomForestClassifier\n",
    "from sklearn.model_selection import TimeSeriesSplit, cross_val_score\n",
    "from sklearn.metrics import roc_auc_score\n",
    "\n",
    "# Сортируем данные по времени\n",
    "#train = train.sort_values('TransactionDT')\n",
    "\n",
    "#X = train.drop(columns=['isFraud'])\n",
    "#y = train['isFraud']\n",
    "\n",
    "# TimeSeriesSplit\n",
    "tscv = TimeSeriesSplit(n_splits=5)\n",
    "\n",
    "def objective(trial):\n",
    "    # Параметры Random Forest\n",
    "    params = {\n",
    "        'n_estimators': trial.suggest_int('n_estimators', 100, 1000),\n",
    "        'max_depth': trial.suggest_int('max_depth', 3, 20),\n",
    "        'min_samples_split': trial.suggest_int('min_samples_split', 2, 20),\n",
    "        'min_samples_leaf': trial.suggest_int('min_samples_leaf', 1, 20),\n",
    "        'max_features': trial.suggest_categorical('max_features', ['sqrt', 'log2']),  # исправлено\n",
    "        'random_state': 42,\n",
    "        'n_jobs': -1,\n",
    "    }\n",
    "    \n",
    "    # Создаём модель\n",
    "    model = RandomForestClassifier(**params)\n",
    "    \n",
    "    # Кросс-валидация по времени\n",
    "    scores = cross_val_score(model, X_train, y_train, cv=tscv, scoring='roc_auc')\n",
    "    \n",
    "    # Оптимизируем среднее значение ROC AUC\n",
    "    return scores.mean()\n",
    "\n",
    "# Оптимизация\n",
    "sampler = optuna.samplers.TPESampler(seed=42)  # Используем seed для воспроизводимости\n",
    "study = optuna.create_study(direction='maximize', sampler=sampler)\n",
    "study.optimize(objective, n_trials=50)\n",
    "\n",
    "print('Лучшие параметры:', study.best_params)\n"
   ]
  },
  {
   "cell_type": "code",
   "execution_count": null,
   "id": "55224459",
   "metadata": {},
   "outputs": [],
   "source": [
    "\n",
    "#params = {'n_estimators': 801, 'max_depth': 12, 'min_samples_split': 17, 'min_samples_leaf': 11, 'max_features': 'log2', 'random_state': 42}\n",
    "#params = {'n_estimators': 538, 'max_depth': 12, 'min_samples_split': 4, 'min_samples_leaf': 19, 'max_features': 'sqrt', 'random_state': 42}\n",
    "params = {'n_estimators': 895, 'max_depth': 12, 'min_samples_split': 20, 'min_samples_leaf': 13, 'max_features': 'sqrt'}\n",
    "params = {'n_estimators': 821, 'max_depth': 19, 'min_samples_split': 9, 'min_samples_leaf': 5, 'max_features': 'sqrt'}\n",
    "model = RandomForestClassifier(**params)\n",
    "model.fit(X_train, y_train)"
   ]
  },
  {
   "cell_type": "code",
   "execution_count": null,
   "id": "f427b324",
   "metadata": {},
   "outputs": [],
   "source": [
    "# Получение важности признаков\n",
    "importances = model.feature_importances_\n",
    "\n",
    "# Создание списка признаков с их важностями\n",
    "feature_names = X_train.columns  # или просто список имен признаков\n",
    "important_features = list(zip(feature_names, importances))\n",
    "\n",
    "# Сортировка по важности\n",
    "important_features.sort(key=lambda x: x[1], reverse=True)\n",
    "\n",
    "# Отображение наиболее важных признаков\n",
    "for feature in important_features:\n",
    "    print(f\"Feature: {feature[0]}, Importance: {feature[1]}\")"
   ]
  },
  {
   "cell_type": "markdown",
   "id": "e87e6bcc",
   "metadata": {},
   "source": [
    "Список важности признаков в модели `RandomForestClassifier` показывает, какие признаки наиболее влияют на точность модели. Основные выводы:\n",
    "\n",
    "1. **Наиболее важные признаки:**\n",
    "   - Признаки типа `C1`, `C13`, `V45` и другие в начале списка имеют наибольшую важность. Они оказывают значительное влияние на предсказания модели и могут быть ключевыми факторами в анализе.\n",
    "\n",
    "2. **Средняя важность:**\n",
    "   - Признаки, такие как `log_TransactionAmt`, `D1`, и `P_emaildomain`, также вносят свой вклад, но в меньшей степени. Их можно рассматривать как вспомогательные для улучшения результатов модели.\n",
    "\n",
    "3. **Мало важные признаки:**\n",
    "   - Признаки внизу списка, такие как `V121`, `V117`, и `V305`, могут быть практически незначимыми. Их можно рассмотреть для исключения из модели, чтобы упростить её и уменьшить вычислительную нагрузку.\n",
    "\n",
    "4. **Использование полученной информации:**\n",
    "   - Основываясь на этом анализе, можно улучшать модель, фокусируясь на наиболее важных признаках.\n",
    "   - Исключение малозначимых признаков может упростить модель без значительной потери качества."
   ]
  },
  {
   "cell_type": "code",
   "execution_count": null,
   "id": "7ede117c",
   "metadata": {},
   "outputs": [],
   "source": [
    "eval(model, X_val, y_val)"
   ]
  },
  {
   "cell_type": "markdown",
   "id": "e731414e",
   "metadata": {},
   "source": [
    "### Анализ метрик и графиков модели RandomForestClassifier с оптимизированными гиперпараметрами\n",
    "\n",
    "#### Метрики\n",
    "\n",
    "1. **Recall (Полнота): 0.3225**\n",
    "   - Полнота уменьшилась по сравнению с предыдущей моделью, что может говорить о компромиссе между полнотой и другими метриками.\n",
    "\n",
    "2. **ROC-AUC: 0.8955**\n",
    "   - ROC-AUC немного улучшился, указывая на высокую способность модели различать классы.\n",
    "\n",
    "3. **PR-AUC: 0.4875**\n",
    "   - Показатель PR-AUC снизился, что может свидетельствовать о том, что точность или полнота выбраны как приоритет в ущерб другой метрике.\n",
    "\n",
    "#### ROC-кривая\n",
    "\n",
    "- ROC-кривая сохраняет высокую выгнутость вверх, указывающую на высокую специфичность модели.\n",
    "- Работа модели близка к оптимальному с точки зрения баланса между ложноположительными и истинноположительными откликами.\n",
    "\n",
    "#### PR-кривая\n",
    "\n",
    "- PR-кривая показывает снижение точности при увеличении полноты, отражая сложность задачи с дисбалансом классов.\n",
    "- Падение точности при увеличении полноты может быть вызвано компромиссами в гиперпараметрах.\n",
    "\n",
    "### Как можно улучшенить\n",
    "\n",
    "1. **Совместное исследование метрик:**\n",
    "   - Если возможно, вернуться к процессу настройки гиперпараметров для нахождения баланса между всеми метриками.\n",
    "\n",
    "2. **Ансамблевые методы:**\n",
    "   - Рассмотреть использование ансамблей, таких как Bagging или Boosting, для улучшения результатов.\n",
    "\n",
    "3. **Тюнинг порога:**\n",
    "   - Рассмотреть возможность изменения порога вероятности для повышения полноты или точности в зависимости от цели задачи.\n",
    "\n",
    "4. **Увеличение данных:**\n",
    "   - Если возможно, расширение объема данных может улучшить обучение модели."
   ]
  },
  {
   "cell_type": "markdown",
   "id": "8cc00328",
   "metadata": {},
   "source": [
    "# Выводы"
   ]
  },
  {
   "cell_type": "markdown",
   "id": "2c9db6b2",
   "metadata": {},
   "source": [
    "### Таблица с метриками\n",
    "\n",
    "| Модель                                 | Recall | ROC-AUC | PR-AUC |\n",
    "|----------------------------------------|--------|---------|--------|\n",
    "| LogisticRegression                     | 0.0148 | 0.6914  | 0.0777 |\n",
    "| RandomForestClassifier (базовый)       | 0.3581 | 0.8946  | 0.5084 |\n",
    "| RandomForestClassifier (оптимизирован)| 0.3225 | 0.8955  | 0.4875 |\n",
    "\n",
    "### Общий вывод\n",
    "\n",
    "1. **LogisticRegression:**\n",
    "   - Показала низкую полноту и PR-AUC, что говорит о недостаточной способности модели справляться с задачей классификации, возможно, из-за простоты модели и дисбаланса классов.\n",
    "\n",
    "2. **RandomForestClassifier (базовый):**\n",
    "   - Заметное улучшение всех метрик по сравнению с LogisticRegression. Высокий ROC-AUC и приемлемый PR-AUC указывают на хорошую способность модели различать классы.\n",
    "\n",
    "3. **RandomForestClassifier (оптимизирован):**\n",
    "   - Не смотря на небольшое снижение полноты и PR-AUC, наблюдается повышение ROC-AUC. Возможно, усилия по тюнингу гиперпараметров немного снизили способности модели находить все положительные классы ради повышения общей способности различать классы.\n",
    "\n",
    "### Как можно улучшить\n",
    "\n",
    "- **Баланс метрик:** Нужно искать компромисс, который наилучшим образом соответствует задачам бизнеса (например, высокая полнота или точность).\n",
    "- **Тюнинг и расширение:** Продолжить настройку гиперпараметров и рассмотреть возможность использования других, более сложных моделей или ансамблевых методов.\n",
    "- **Анализ данных:** Изучить возможности расширения и улучшения данных, чтобы повысить качество модели."
   ]
  },
  {
   "cell_type": "markdown",
   "id": "cdd655e4",
   "metadata": {},
   "source": []
  },
  {
   "cell_type": "markdown",
   "id": "8dc8a3e3",
   "metadata": {},
   "source": [
    "# Обученик моделей на графах"
   ]
  },
  {
   "cell_type": "markdown",
   "id": "0e47d562",
   "metadata": {},
   "source": [
    "## Преобразование DataFrame в граф"
   ]
  },
  {
   "cell_type": "code",
   "execution_count": 3,
   "id": "256caf03",
   "metadata": {},
   "outputs": [
    {
     "name": "stderr",
     "output_type": "stream",
     "text": [
      "/var/folders/38/2h99w6rx1fz1qhgr17m1cbpm0000gn/T/ipykernel_53489/111117196.py:32: UserWarning: Creating a tensor from a list of numpy.ndarrays is extremely slow. Please consider converting the list to a single numpy.ndarray with numpy.array() before converting to a tensor. (Triggered internally at /Users/runner/work/pytorch/pytorch/pytorch/torch/csrc/utils/tensor_new.cpp:281.)\n",
      "  data['transaction', 'made_by', 'user'].edge_index = torch.tensor([\n"
     ]
    }
   ],
   "source": [
    "import pandas as pd\n",
    "import torch\n",
    "from torch_geometric.data import HeteroData\n",
    "from sklearn.preprocessing import LabelEncoder\n",
    "\n",
    "# Загрузка данных\n",
    "df = pd.read_csv('../data/processing/df_preprocessing.csv')\n",
    "\n",
    "data = HeteroData()\n",
    "\n",
    "# Кодируем пользователей\n",
    "le_user = LabelEncoder()\n",
    "df['user_id'] = le_user.fit_transform(df['card1'])\n",
    "\n",
    "# Кодируем email\n",
    "le_email = LabelEncoder()\n",
    "df['email_id'] = le_email.fit_transform(df['P_emaildomain'].astype(str))\n",
    "\n",
    "# Кодируем продукты\n",
    "le_product = LabelEncoder()\n",
    "df['product_id'] = le_product.fit_transform(df['ProductCD'].astype(str))\n",
    "\n",
    "# Создаем фичи для транзакций\n",
    "transaction_features = df[['TransactionAmt', 'Transaction_hour', 'Transaction_weekday', 'log_TransactionAmt']].fillna(0)\n",
    "data['transaction'].x = torch.tensor(transaction_features.values, dtype=torch.float)\n",
    "data['transaction'].y = torch.tensor(df['isFraud'].values, dtype=torch.long)\n",
    "\n",
    "# Индексы\n",
    "data['transaction'].node_id = torch.arange(df.shape[0])\n",
    "\n",
    "# Добавляем связи\n",
    "data['transaction', 'made_by', 'user'].edge_index = torch.tensor([\n",
    "    df.index.values,\n",
    "    df['user_id'].values\n",
    "], dtype=torch.long)\n",
    "\n",
    "data['transaction', 'uses_email', 'email'].edge_index = torch.tensor([\n",
    "    df.index.values,\n",
    "    df['email_id'].values\n",
    "], dtype=torch.long)\n",
    "\n",
    "data['transaction', 'has_product', 'product'].edge_index = torch.tensor([\n",
    "    df.index.values,\n",
    "    df['product_id'].values\n",
    "], dtype=torch.long)\n",
    "\n",
    "# Dummy фичи для других узлов\n",
    "data['user'].x = torch.eye(df['user_id'].nunique())\n",
    "data['email'].x = torch.eye(df['email_id'].nunique())\n",
    "data['product'].x = torch.eye(df['product_id'].nunique())\n"
   ]
  },
  {
   "cell_type": "markdown",
   "id": "7e35820c",
   "metadata": {},
   "source": [
    "## Определение модели GNN"
   ]
  },
  {
   "cell_type": "code",
   "execution_count": 7,
   "id": "40e50333",
   "metadata": {},
   "outputs": [
    {
     "ename": "OSError",
     "evalue": "dlopen(/Users/sergey/Projects/Karpov.Courses/mfdp-fin-fraud-detection/.venv/lib/python3.11/site-packages/libpyg.so, 0x0006): Library not loaded: /Library/Frameworks/Python.framework/Versions/3.11/Python\n  Referenced from: <B4DF21CE-3AD4-3ED1-8E22-0F66900D55D2> /Users/sergey/Projects/Karpov.Courses/mfdp-fin-fraud-detection/.venv/lib/python3.11/site-packages/libpyg.so\n  Reason: tried: '/Library/Frameworks/Python.framework/Versions/3.11/Python' (no such file), '/System/Volumes/Preboot/Cryptexes/OS/Library/Frameworks/Python.framework/Versions/3.11/Python' (no such file), '/Library/Frameworks/Python.framework/Versions/3.11/Python' (no such file)",
     "output_type": "error",
     "traceback": [
      "\u001b[31m---------------------------------------------------------------------------\u001b[39m",
      "\u001b[31mOSError\u001b[39m                                   Traceback (most recent call last)",
      "\u001b[36mCell\u001b[39m\u001b[36m \u001b[39m\u001b[32mIn[7]\u001b[39m\u001b[32m, line 1\u001b[39m\n\u001b[32m----> \u001b[39m\u001b[32m1\u001b[39m \u001b[38;5;28;01mimport\u001b[39;00m\u001b[38;5;250m \u001b[39m\u001b[34;01mtorch_sparse\u001b[39;00m\n\u001b[32m      2\u001b[39m \u001b[38;5;28;01mimport\u001b[39;00m\u001b[38;5;250m \u001b[39m\u001b[34;01mpyg_lib\u001b[39;00m\n\u001b[32m      4\u001b[39m \u001b[38;5;28mprint\u001b[39m(torch_sparse.\u001b[34m__file__\u001b[39m)\n",
      "\u001b[36mFile \u001b[39m\u001b[32m~/Projects/Karpov.Courses/mfdp-fin-fraud-detection/.venv/lib/python3.11/site-packages/torch_sparse/__init__.py:39\u001b[39m\n\u001b[32m     31\u001b[39m     \u001b[38;5;28;01mif\u001b[39;00m t_major != major:\n\u001b[32m     32\u001b[39m         \u001b[38;5;28;01mraise\u001b[39;00m \u001b[38;5;167;01mRuntimeError\u001b[39;00m(\n\u001b[32m     33\u001b[39m             \u001b[33mf\u001b[39m\u001b[33m'\u001b[39m\u001b[33mDetected that PyTorch and torch_sparse were compiled with \u001b[39m\u001b[33m'\u001b[39m\n\u001b[32m     34\u001b[39m             \u001b[33mf\u001b[39m\u001b[33m'\u001b[39m\u001b[33mdifferent CUDA versions. PyTorch has CUDA version \u001b[39m\u001b[33m'\u001b[39m\n\u001b[32m     35\u001b[39m             \u001b[33mf\u001b[39m\u001b[33m'\u001b[39m\u001b[38;5;132;01m{\u001b[39;00mt_major\u001b[38;5;132;01m}\u001b[39;00m\u001b[33m.\u001b[39m\u001b[38;5;132;01m{\u001b[39;00mt_minor\u001b[38;5;132;01m}\u001b[39;00m\u001b[33m and torch_sparse has CUDA version \u001b[39m\u001b[33m'\u001b[39m\n\u001b[32m     36\u001b[39m             \u001b[33mf\u001b[39m\u001b[33m'\u001b[39m\u001b[38;5;132;01m{\u001b[39;00mmajor\u001b[38;5;132;01m}\u001b[39;00m\u001b[33m.\u001b[39m\u001b[38;5;132;01m{\u001b[39;00mminor\u001b[38;5;132;01m}\u001b[39;00m\u001b[33m. Please reinstall the torch_sparse that \u001b[39m\u001b[33m'\u001b[39m\n\u001b[32m     37\u001b[39m             \u001b[33mf\u001b[39m\u001b[33m'\u001b[39m\u001b[33mmatches your PyTorch install.\u001b[39m\u001b[33m'\u001b[39m)\n\u001b[32m---> \u001b[39m\u001b[32m39\u001b[39m \u001b[38;5;28;01mfrom\u001b[39;00m\u001b[38;5;250m \u001b[39m\u001b[34;01m.\u001b[39;00m\u001b[34;01mstorage\u001b[39;00m\u001b[38;5;250m \u001b[39m\u001b[38;5;28;01mimport\u001b[39;00m SparseStorage  \u001b[38;5;66;03m# noqa\u001b[39;00m\n\u001b[32m     40\u001b[39m \u001b[38;5;28;01mfrom\u001b[39;00m\u001b[38;5;250m \u001b[39m\u001b[34;01m.\u001b[39;00m\u001b[34;01mtensor\u001b[39;00m\u001b[38;5;250m \u001b[39m\u001b[38;5;28;01mimport\u001b[39;00m SparseTensor  \u001b[38;5;66;03m# noqa\u001b[39;00m\n\u001b[32m     41\u001b[39m \u001b[38;5;28;01mfrom\u001b[39;00m\u001b[38;5;250m \u001b[39m\u001b[34;01m.\u001b[39;00m\u001b[34;01mtranspose\u001b[39;00m\u001b[38;5;250m \u001b[39m\u001b[38;5;28;01mimport\u001b[39;00m t  \u001b[38;5;66;03m# noqa\u001b[39;00m\n",
      "\u001b[36mFile \u001b[39m\u001b[32m~/Projects/Karpov.Courses/mfdp-fin-fraud-detection/.venv/lib/python3.11/site-packages/torch_sparse/storage.py:7\u001b[39m\n\u001b[32m      4\u001b[39m \u001b[38;5;28;01mimport\u001b[39;00m\u001b[38;5;250m \u001b[39m\u001b[34;01mtorch\u001b[39;00m\n\u001b[32m      5\u001b[39m \u001b[38;5;28;01mfrom\u001b[39;00m\u001b[38;5;250m \u001b[39m\u001b[34;01mtorch_scatter\u001b[39;00m\u001b[38;5;250m \u001b[39m\u001b[38;5;28;01mimport\u001b[39;00m scatter_add, segment_csr\n\u001b[32m----> \u001b[39m\u001b[32m7\u001b[39m \u001b[38;5;28;01mfrom\u001b[39;00m\u001b[38;5;250m \u001b[39m\u001b[34;01mtorch_sparse\u001b[39;00m\u001b[34;01m.\u001b[39;00m\u001b[34;01mutils\u001b[39;00m\u001b[38;5;250m \u001b[39m\u001b[38;5;28;01mimport\u001b[39;00m Final, index_sort\n\u001b[32m      9\u001b[39m layouts: Final[List[\u001b[38;5;28mstr\u001b[39m]] = [\u001b[33m'\u001b[39m\u001b[33mcoo\u001b[39m\u001b[33m'\u001b[39m, \u001b[33m'\u001b[39m\u001b[33mcsr\u001b[39m\u001b[33m'\u001b[39m, \u001b[33m'\u001b[39m\u001b[33mcsc\u001b[39m\u001b[33m'\u001b[39m]\n\u001b[32m     12\u001b[39m \u001b[38;5;28;01mdef\u001b[39;00m\u001b[38;5;250m \u001b[39m\u001b[34mget_layout\u001b[39m(layout: Optional[\u001b[38;5;28mstr\u001b[39m] = \u001b[38;5;28;01mNone\u001b[39;00m) -> \u001b[38;5;28mstr\u001b[39m:\n",
      "\u001b[36mFile \u001b[39m\u001b[32m~/Projects/Karpov.Courses/mfdp-fin-fraud-detection/.venv/lib/python3.11/site-packages/torch_sparse/utils.py:5\u001b[39m\n\u001b[32m      1\u001b[39m \u001b[38;5;28;01mfrom\u001b[39;00m\u001b[38;5;250m \u001b[39m\u001b[34;01mtyping\u001b[39;00m\u001b[38;5;250m \u001b[39m\u001b[38;5;28;01mimport\u001b[39;00m Any, Optional, Tuple\n\u001b[32m      3\u001b[39m \u001b[38;5;28;01mimport\u001b[39;00m\u001b[38;5;250m \u001b[39m\u001b[34;01mtorch\u001b[39;00m\n\u001b[32m----> \u001b[39m\u001b[32m5\u001b[39m \u001b[38;5;28;01mimport\u001b[39;00m\u001b[38;5;250m \u001b[39m\u001b[34;01mtorch_sparse\u001b[39;00m\u001b[34;01m.\u001b[39;00m\u001b[34;01mtyping\u001b[39;00m\n\u001b[32m      6\u001b[39m \u001b[38;5;28;01mfrom\u001b[39;00m\u001b[38;5;250m \u001b[39m\u001b[34;01mtorch_sparse\u001b[39;00m\u001b[34;01m.\u001b[39;00m\u001b[34;01mtyping\u001b[39;00m\u001b[38;5;250m \u001b[39m\u001b[38;5;28;01mimport\u001b[39;00m pyg_lib\n\u001b[32m      8\u001b[39m \u001b[38;5;28;01mtry\u001b[39;00m:\n",
      "\u001b[36mFile \u001b[39m\u001b[32m~/Projects/Karpov.Courses/mfdp-fin-fraud-detection/.venv/lib/python3.11/site-packages/torch_sparse/typing.py:2\u001b[39m\n\u001b[32m      1\u001b[39m \u001b[38;5;28;01mtry\u001b[39;00m:\n\u001b[32m----> \u001b[39m\u001b[32m2\u001b[39m     \u001b[38;5;28;01mimport\u001b[39;00m\u001b[38;5;250m \u001b[39m\u001b[34;01mpyg_lib\u001b[39;00m  \u001b[38;5;66;03m# noqa\u001b[39;00m\n\u001b[32m      3\u001b[39m     WITH_PYG_LIB = \u001b[38;5;28;01mTrue\u001b[39;00m\n\u001b[32m      4\u001b[39m     WITH_INDEX_SORT = \u001b[38;5;28mhasattr\u001b[39m(pyg_lib.ops, \u001b[33m'\u001b[39m\u001b[33mindex_sort\u001b[39m\u001b[33m'\u001b[39m)\n",
      "\u001b[36mFile \u001b[39m\u001b[32m~/Projects/Karpov.Courses/mfdp-fin-fraud-detection/.venv/lib/python3.11/site-packages/pyg_lib/__init__.py:34\u001b[39m\n\u001b[32m     30\u001b[39m     \u001b[38;5;28;01melse\u001b[39;00m:\n\u001b[32m     31\u001b[39m         torch.ops.load_library(spec.origin)\n\u001b[32m---> \u001b[39m\u001b[32m34\u001b[39m \u001b[43mload_library\u001b[49m\u001b[43m(\u001b[49m\u001b[33;43m'\u001b[39;49m\u001b[33;43mlibpyg\u001b[39;49m\u001b[33;43m'\u001b[39;49m\u001b[43m)\u001b[49m\n\u001b[32m     36\u001b[39m \u001b[38;5;28;01mimport\u001b[39;00m\u001b[38;5;250m \u001b[39m\u001b[34;01mpyg_lib\u001b[39;00m\u001b[34;01m.\u001b[39;00m\u001b[34;01mops\u001b[39;00m  \u001b[38;5;66;03m# noqa\u001b[39;00m\n\u001b[32m     37\u001b[39m \u001b[38;5;28;01mimport\u001b[39;00m\u001b[38;5;250m \u001b[39m\u001b[34;01mpyg_lib\u001b[39;00m\u001b[34;01m.\u001b[39;00m\u001b[34;01mpartition\u001b[39;00m  \u001b[38;5;66;03m# noqa\u001b[39;00m\n",
      "\u001b[36mFile \u001b[39m\u001b[32m~/Projects/Karpov.Courses/mfdp-fin-fraud-detection/.venv/lib/python3.11/site-packages/pyg_lib/__init__.py:31\u001b[39m, in \u001b[36mload_library\u001b[39m\u001b[34m(lib_name)\u001b[39m\n\u001b[32m     29\u001b[39m     warnings.warn(\u001b[33mf\u001b[39m\u001b[33m\"\u001b[39m\u001b[33mCould not find shared library \u001b[39m\u001b[33m'\u001b[39m\u001b[38;5;132;01m{\u001b[39;00mlib_name\u001b[38;5;132;01m}\u001b[39;00m\u001b[33m'\u001b[39m\u001b[33m\"\u001b[39m)\n\u001b[32m     30\u001b[39m \u001b[38;5;28;01melse\u001b[39;00m:\n\u001b[32m---> \u001b[39m\u001b[32m31\u001b[39m     \u001b[43mtorch\u001b[49m\u001b[43m.\u001b[49m\u001b[43mops\u001b[49m\u001b[43m.\u001b[49m\u001b[43mload_library\u001b[49m\u001b[43m(\u001b[49m\u001b[43mspec\u001b[49m\u001b[43m.\u001b[49m\u001b[43morigin\u001b[49m\u001b[43m)\u001b[49m\n",
      "\u001b[36mFile \u001b[39m\u001b[32m~/Projects/Karpov.Courses/mfdp-fin-fraud-detection/.venv/lib/python3.11/site-packages/torch/_ops.py:1350\u001b[39m, in \u001b[36m_Ops.load_library\u001b[39m\u001b[34m(self, path)\u001b[39m\n\u001b[32m   1345\u001b[39m path = _utils_internal.resolve_library_path(path)\n\u001b[32m   1346\u001b[39m \u001b[38;5;28;01mwith\u001b[39;00m dl_open_guard():\n\u001b[32m   1347\u001b[39m     \u001b[38;5;66;03m# Import the shared library into the process, thus running its\u001b[39;00m\n\u001b[32m   1348\u001b[39m     \u001b[38;5;66;03m# static (global) initialization code in order to register custom\u001b[39;00m\n\u001b[32m   1349\u001b[39m     \u001b[38;5;66;03m# operators with the JIT.\u001b[39;00m\n\u001b[32m-> \u001b[39m\u001b[32m1350\u001b[39m     \u001b[43mctypes\u001b[49m\u001b[43m.\u001b[49m\u001b[43mCDLL\u001b[49m\u001b[43m(\u001b[49m\u001b[43mpath\u001b[49m\u001b[43m)\u001b[49m\n\u001b[32m   1351\u001b[39m \u001b[38;5;28mself\u001b[39m.loaded_libraries.add(path)\n",
      "\u001b[36mFile \u001b[39m\u001b[32m/opt/homebrew/Cellar/python@3.11/3.11.11/Frameworks/Python.framework/Versions/3.11/lib/python3.11/ctypes/__init__.py:376\u001b[39m, in \u001b[36mCDLL.__init__\u001b[39m\u001b[34m(self, name, mode, handle, use_errno, use_last_error, winmode)\u001b[39m\n\u001b[32m    373\u001b[39m \u001b[38;5;28mself\u001b[39m._FuncPtr = _FuncPtr\n\u001b[32m    375\u001b[39m \u001b[38;5;28;01mif\u001b[39;00m handle \u001b[38;5;129;01mis\u001b[39;00m \u001b[38;5;28;01mNone\u001b[39;00m:\n\u001b[32m--> \u001b[39m\u001b[32m376\u001b[39m     \u001b[38;5;28mself\u001b[39m._handle = \u001b[43m_dlopen\u001b[49m\u001b[43m(\u001b[49m\u001b[38;5;28;43mself\u001b[39;49m\u001b[43m.\u001b[49m\u001b[43m_name\u001b[49m\u001b[43m,\u001b[49m\u001b[43m \u001b[49m\u001b[43mmode\u001b[49m\u001b[43m)\u001b[49m\n\u001b[32m    377\u001b[39m \u001b[38;5;28;01melse\u001b[39;00m:\n\u001b[32m    378\u001b[39m     \u001b[38;5;28mself\u001b[39m._handle = handle\n",
      "\u001b[31mOSError\u001b[39m: dlopen(/Users/sergey/Projects/Karpov.Courses/mfdp-fin-fraud-detection/.venv/lib/python3.11/site-packages/libpyg.so, 0x0006): Library not loaded: /Library/Frameworks/Python.framework/Versions/3.11/Python\n  Referenced from: <B4DF21CE-3AD4-3ED1-8E22-0F66900D55D2> /Users/sergey/Projects/Karpov.Courses/mfdp-fin-fraud-detection/.venv/lib/python3.11/site-packages/libpyg.so\n  Reason: tried: '/Library/Frameworks/Python.framework/Versions/3.11/Python' (no such file), '/System/Volumes/Preboot/Cryptexes/OS/Library/Frameworks/Python.framework/Versions/3.11/Python' (no such file), '/Library/Frameworks/Python.framework/Versions/3.11/Python' (no such file)"
     ]
    }
   ],
   "source": [
    "import torch_sparse\n",
    "import pyg_lib\n",
    "\n",
    "print(torch_sparse.__file__)\n",
    "print(pyg_lib.__file__)"
   ]
  },
  {
   "cell_type": "code",
   "execution_count": 4,
   "id": "fee8af67",
   "metadata": {},
   "outputs": [],
   "source": [
    "from torch.nn import Linear\n",
    "from torch_geometric.nn import HeteroConv, GATConv\n",
    "import torch.nn as nn\n",
    "\n",
    "class FraudGNN(torch.nn.Module):\n",
    "    def __init__(self, metadata):\n",
    "        super().__init__()\n",
    "        self.conv1 = HeteroConv({\n",
    "            ('transaction', 'made_by', 'user'): GATConv((-1, -1), 32, add_self_loops=False),\n",
    "            ('transaction', 'uses_email', 'email'): GATConv((-1, -1), 32, add_self_loops=False),\n",
    "            ('transaction', 'has_product', 'product'): GATConv((-1, -1), 32, add_self_loops=False),\n",
    "        }, aggr='sum')\n",
    "\n",
    "        self.lin = Linear(32, 2)\n",
    "\n",
    "    def forward(self, x_dict, edge_index_dict):\n",
    "        x_dict = self.conv1(x_dict, edge_index_dict)\n",
    "        x = x_dict['transaction']\n",
    "        return self.lin(x)\n"
   ]
  },
  {
   "cell_type": "markdown",
   "id": "c4984cc6",
   "metadata": {},
   "source": [
    "## Обучение модели"
   ]
  },
  {
   "cell_type": "code",
   "execution_count": 6,
   "id": "583f335d",
   "metadata": {},
   "outputs": [
    {
     "ename": "ImportError",
     "evalue": "'NeighborSampler' requires either 'pyg-lib' or 'torch-sparse'",
     "output_type": "error",
     "traceback": [
      "\u001b[31m---------------------------------------------------------------------------\u001b[39m",
      "\u001b[31mImportError\u001b[39m                               Traceback (most recent call last)",
      "\u001b[36mCell\u001b[39m\u001b[36m \u001b[39m\u001b[32mIn[6]\u001b[39m\u001b[32m, line 21\u001b[39m\n\u001b[32m     19\u001b[39m \u001b[38;5;28;01mfor\u001b[39;00m epoch \u001b[38;5;129;01min\u001b[39;00m \u001b[38;5;28mrange\u001b[39m(\u001b[32m10\u001b[39m):\n\u001b[32m     20\u001b[39m     total_loss = \u001b[32m0\u001b[39m\n\u001b[32m---> \u001b[39m\u001b[32m21\u001b[39m \u001b[43m    \u001b[49m\u001b[38;5;28;43;01mfor\u001b[39;49;00m\u001b[43m \u001b[49m\u001b[43mbatch\u001b[49m\u001b[43m \u001b[49m\u001b[38;5;129;43;01min\u001b[39;49;00m\u001b[43m \u001b[49m\u001b[43mloader\u001b[49m\u001b[43m:\u001b[49m\n\u001b[32m     22\u001b[39m \u001b[43m        \u001b[49m\u001b[43mbatch\u001b[49m\u001b[43m \u001b[49m\u001b[43m=\u001b[49m\u001b[43m \u001b[49m\u001b[43mbatch\u001b[49m\u001b[43m.\u001b[49m\u001b[43mto\u001b[49m\u001b[43m(\u001b[49m\u001b[43mdevice\u001b[49m\u001b[43m)\u001b[49m\n\u001b[32m     23\u001b[39m \u001b[43m        \u001b[49m\u001b[43mout\u001b[49m\u001b[43m \u001b[49m\u001b[43m=\u001b[49m\u001b[43m \u001b[49m\u001b[43mmodel\u001b[49m\u001b[43m(\u001b[49m\u001b[43mbatch\u001b[49m\u001b[43m.\u001b[49m\u001b[43mx_dict\u001b[49m\u001b[43m,\u001b[49m\u001b[43m \u001b[49m\u001b[43mbatch\u001b[49m\u001b[43m.\u001b[49m\u001b[43medge_index_dict\u001b[49m\u001b[43m)\u001b[49m\n",
      "\u001b[36mFile \u001b[39m\u001b[32m~/Projects/Karpov.Courses/mfdp-fin-fraud-detection/.venv/lib/python3.11/site-packages/torch/utils/data/dataloader.py:701\u001b[39m, in \u001b[36m_BaseDataLoaderIter.__next__\u001b[39m\u001b[34m(self)\u001b[39m\n\u001b[32m    698\u001b[39m \u001b[38;5;28;01mif\u001b[39;00m \u001b[38;5;28mself\u001b[39m._sampler_iter \u001b[38;5;129;01mis\u001b[39;00m \u001b[38;5;28;01mNone\u001b[39;00m:\n\u001b[32m    699\u001b[39m     \u001b[38;5;66;03m# TODO(https://github.com/pytorch/pytorch/issues/76750)\u001b[39;00m\n\u001b[32m    700\u001b[39m     \u001b[38;5;28mself\u001b[39m._reset()  \u001b[38;5;66;03m# type: ignore[call-arg]\u001b[39;00m\n\u001b[32m--> \u001b[39m\u001b[32m701\u001b[39m data = \u001b[38;5;28;43mself\u001b[39;49m\u001b[43m.\u001b[49m\u001b[43m_next_data\u001b[49m\u001b[43m(\u001b[49m\u001b[43m)\u001b[49m\n\u001b[32m    702\u001b[39m \u001b[38;5;28mself\u001b[39m._num_yielded += \u001b[32m1\u001b[39m\n\u001b[32m    703\u001b[39m \u001b[38;5;28;01mif\u001b[39;00m (\n\u001b[32m    704\u001b[39m     \u001b[38;5;28mself\u001b[39m._dataset_kind == _DatasetKind.Iterable\n\u001b[32m    705\u001b[39m     \u001b[38;5;129;01mand\u001b[39;00m \u001b[38;5;28mself\u001b[39m._IterableDataset_len_called \u001b[38;5;129;01mis\u001b[39;00m \u001b[38;5;129;01mnot\u001b[39;00m \u001b[38;5;28;01mNone\u001b[39;00m\n\u001b[32m    706\u001b[39m     \u001b[38;5;129;01mand\u001b[39;00m \u001b[38;5;28mself\u001b[39m._num_yielded > \u001b[38;5;28mself\u001b[39m._IterableDataset_len_called\n\u001b[32m    707\u001b[39m ):\n",
      "\u001b[36mFile \u001b[39m\u001b[32m~/Projects/Karpov.Courses/mfdp-fin-fraud-detection/.venv/lib/python3.11/site-packages/torch/utils/data/dataloader.py:757\u001b[39m, in \u001b[36m_SingleProcessDataLoaderIter._next_data\u001b[39m\u001b[34m(self)\u001b[39m\n\u001b[32m    755\u001b[39m \u001b[38;5;28;01mdef\u001b[39;00m\u001b[38;5;250m \u001b[39m\u001b[34m_next_data\u001b[39m(\u001b[38;5;28mself\u001b[39m):\n\u001b[32m    756\u001b[39m     index = \u001b[38;5;28mself\u001b[39m._next_index()  \u001b[38;5;66;03m# may raise StopIteration\u001b[39;00m\n\u001b[32m--> \u001b[39m\u001b[32m757\u001b[39m     data = \u001b[38;5;28;43mself\u001b[39;49m\u001b[43m.\u001b[49m\u001b[43m_dataset_fetcher\u001b[49m\u001b[43m.\u001b[49m\u001b[43mfetch\u001b[49m\u001b[43m(\u001b[49m\u001b[43mindex\u001b[49m\u001b[43m)\u001b[49m  \u001b[38;5;66;03m# may raise StopIteration\u001b[39;00m\n\u001b[32m    758\u001b[39m     \u001b[38;5;28;01mif\u001b[39;00m \u001b[38;5;28mself\u001b[39m._pin_memory:\n\u001b[32m    759\u001b[39m         data = _utils.pin_memory.pin_memory(data, \u001b[38;5;28mself\u001b[39m._pin_memory_device)\n",
      "\u001b[36mFile \u001b[39m\u001b[32m~/Projects/Karpov.Courses/mfdp-fin-fraud-detection/.venv/lib/python3.11/site-packages/torch/utils/data/_utils/fetch.py:55\u001b[39m, in \u001b[36m_MapDatasetFetcher.fetch\u001b[39m\u001b[34m(self, possibly_batched_index)\u001b[39m\n\u001b[32m     53\u001b[39m \u001b[38;5;28;01melse\u001b[39;00m:\n\u001b[32m     54\u001b[39m     data = \u001b[38;5;28mself\u001b[39m.dataset[possibly_batched_index]\n\u001b[32m---> \u001b[39m\u001b[32m55\u001b[39m \u001b[38;5;28;01mreturn\u001b[39;00m \u001b[38;5;28;43mself\u001b[39;49m\u001b[43m.\u001b[49m\u001b[43mcollate_fn\u001b[49m\u001b[43m(\u001b[49m\u001b[43mdata\u001b[49m\u001b[43m)\u001b[49m\n",
      "\u001b[36mFile \u001b[39m\u001b[32m~/Projects/Karpov.Courses/mfdp-fin-fraud-detection/.venv/lib/python3.11/site-packages/torch_geometric/loader/node_loader.py:147\u001b[39m, in \u001b[36mNodeLoader.collate_fn\u001b[39m\u001b[34m(self, index)\u001b[39m\n\u001b[32m    144\u001b[39m \u001b[38;5;250m\u001b[39m\u001b[33mr\u001b[39m\u001b[33;03m\"\"\"Samples a subgraph from a batch of input nodes.\"\"\"\u001b[39;00m\n\u001b[32m    145\u001b[39m input_data: NodeSamplerInput = \u001b[38;5;28mself\u001b[39m.input_data[index]\n\u001b[32m--> \u001b[39m\u001b[32m147\u001b[39m out = \u001b[38;5;28;43mself\u001b[39;49m\u001b[43m.\u001b[49m\u001b[43mnode_sampler\u001b[49m\u001b[43m.\u001b[49m\u001b[43msample_from_nodes\u001b[49m\u001b[43m(\u001b[49m\u001b[43minput_data\u001b[49m\u001b[43m)\u001b[49m\n\u001b[32m    149\u001b[39m \u001b[38;5;28;01mif\u001b[39;00m \u001b[38;5;28mself\u001b[39m.filter_per_worker:  \u001b[38;5;66;03m# Execute `filter_fn` in the worker process\u001b[39;00m\n\u001b[32m    150\u001b[39m     out = \u001b[38;5;28mself\u001b[39m.filter_fn(out)\n",
      "\u001b[36mFile \u001b[39m\u001b[32m~/Projects/Karpov.Courses/mfdp-fin-fraud-detection/.venv/lib/python3.11/site-packages/torch_geometric/sampler/neighbor_sampler.py:322\u001b[39m, in \u001b[36mNeighborSampler.sample_from_nodes\u001b[39m\u001b[34m(self, inputs)\u001b[39m\n\u001b[32m    318\u001b[39m \u001b[38;5;28;01mdef\u001b[39;00m\u001b[38;5;250m \u001b[39m\u001b[34msample_from_nodes\u001b[39m(\n\u001b[32m    319\u001b[39m     \u001b[38;5;28mself\u001b[39m,\n\u001b[32m    320\u001b[39m     inputs: NodeSamplerInput,\n\u001b[32m    321\u001b[39m ) -> Union[SamplerOutput, HeteroSamplerOutput]:\n\u001b[32m--> \u001b[39m\u001b[32m322\u001b[39m     out = \u001b[43mnode_sample\u001b[49m\u001b[43m(\u001b[49m\u001b[43minputs\u001b[49m\u001b[43m,\u001b[49m\u001b[43m \u001b[49m\u001b[38;5;28;43mself\u001b[39;49m\u001b[43m.\u001b[49m\u001b[43m_sample\u001b[49m\u001b[43m)\u001b[49m\n\u001b[32m    323\u001b[39m     \u001b[38;5;28;01mif\u001b[39;00m \u001b[38;5;28mself\u001b[39m.subgraph_type == SubgraphType.bidirectional:\n\u001b[32m    324\u001b[39m         out = out.to_bidirectional()\n",
      "\u001b[36mFile \u001b[39m\u001b[32m~/Projects/Karpov.Courses/mfdp-fin-fraud-detection/.venv/lib/python3.11/site-packages/torch_geometric/sampler/neighbor_sampler.py:542\u001b[39m, in \u001b[36mnode_sample\u001b[39m\u001b[34m(inputs, sample_fn)\u001b[39m\n\u001b[32m    539\u001b[39m     seed = inputs.node\n\u001b[32m    540\u001b[39m     seed_time = inputs.time\n\u001b[32m--> \u001b[39m\u001b[32m542\u001b[39m out = \u001b[43msample_fn\u001b[49m\u001b[43m(\u001b[49m\u001b[43mseed\u001b[49m\u001b[43m,\u001b[49m\u001b[43m \u001b[49m\u001b[43mseed_time\u001b[49m\u001b[43m)\u001b[49m\n\u001b[32m    543\u001b[39m out.metadata = (inputs.input_id, inputs.time)\n\u001b[32m    545\u001b[39m \u001b[38;5;28;01mreturn\u001b[39;00m out\n",
      "\u001b[36mFile \u001b[39m\u001b[32m~/Projects/Karpov.Courses/mfdp-fin-fraud-detection/.venv/lib/python3.11/site-packages/torch_geometric/sampler/neighbor_sampler.py:431\u001b[39m, in \u001b[36mNeighborSampler._sample\u001b[39m\u001b[34m(self, seed, seed_time, **kwargs)\u001b[39m\n\u001b[32m    428\u001b[39m     num_sampled_nodes = num_sampled_edges = \u001b[38;5;28;01mNone\u001b[39;00m\n\u001b[32m    430\u001b[39m \u001b[38;5;28;01melse\u001b[39;00m:\n\u001b[32m--> \u001b[39m\u001b[32m431\u001b[39m     \u001b[38;5;28;01mraise\u001b[39;00m \u001b[38;5;167;01mImportError\u001b[39;00m(\u001b[33mf\u001b[39m\u001b[33m\"\u001b[39m\u001b[33m'\u001b[39m\u001b[38;5;132;01m{\u001b[39;00m\u001b[38;5;28mself\u001b[39m.\u001b[34m__class__\u001b[39m.\u001b[34m__name__\u001b[39m\u001b[38;5;132;01m}\u001b[39;00m\u001b[33m'\u001b[39m\u001b[33m requires \u001b[39m\u001b[33m\"\u001b[39m\n\u001b[32m    432\u001b[39m                       \u001b[33mf\u001b[39m\u001b[33m\"\u001b[39m\u001b[33meither \u001b[39m\u001b[33m'\u001b[39m\u001b[33mpyg-lib\u001b[39m\u001b[33m'\u001b[39m\u001b[33m or \u001b[39m\u001b[33m'\u001b[39m\u001b[33mtorch-sparse\u001b[39m\u001b[33m'\u001b[39m\u001b[33m\"\u001b[39m)\n\u001b[32m    434\u001b[39m \u001b[38;5;28;01mif\u001b[39;00m num_sampled_edges \u001b[38;5;129;01mis\u001b[39;00m \u001b[38;5;129;01mnot\u001b[39;00m \u001b[38;5;28;01mNone\u001b[39;00m:\n\u001b[32m    435\u001b[39m     num_sampled_edges = remap_keys(\n\u001b[32m    436\u001b[39m         num_sampled_edges,\n\u001b[32m    437\u001b[39m         \u001b[38;5;28mself\u001b[39m.to_edge_type,\n\u001b[32m    438\u001b[39m     )\n",
      "\u001b[31mImportError\u001b[39m: 'NeighborSampler' requires either 'pyg-lib' or 'torch-sparse'"
     ]
    }
   ],
   "source": [
    "from torch_geometric.loader import NeighborLoader\n",
    "\n",
    "# Loader\n",
    "loader = NeighborLoader(\n",
    "    data,\n",
    "    input_nodes=('transaction', data['transaction'].node_id),\n",
    "    num_neighbors={key: [10] for key in data.edge_index_dict},\n",
    "    batch_size=64,\n",
    "    shuffle=True\n",
    ")\n",
    "\n",
    "#device = torch.device('cuda' if torch.cuda.is_available() else 'cpu')\n",
    "device = torch.device(\"cuda\" if torch.cuda.is_available() else \"mps\" if torch.backends.mps.is_available() else \"cpu\") \n",
    "\n",
    "model = FraudGNN(data.metadata()).to(device)\n",
    "optimizer = torch.optim.Adam(model.parameters(), lr=0.01)\n",
    "\n",
    "model.train()\n",
    "for epoch in range(10):\n",
    "    total_loss = 0\n",
    "    for batch in loader:\n",
    "        batch = batch.to(device)\n",
    "        out = model(batch.x_dict, batch.edge_index_dict)\n",
    "        loss = F.cross_entropy(out, batch['transaction'].y)\n",
    "        loss.backward()\n",
    "        optimizer.step()\n",
    "        optimizer.zero_grad()\n",
    "        total_loss += loss.item()\n",
    "    print(f\"Epoch {epoch+1} Loss: {total_loss:.4f}\")\n"
   ]
  },
  {
   "cell_type": "markdown",
   "id": "d959fdde",
   "metadata": {},
   "source": []
  },
  {
   "cell_type": "markdown",
   "id": "f4ff04ba",
   "metadata": {},
   "source": []
  },
  {
   "cell_type": "markdown",
   "id": "a33e53db",
   "metadata": {},
   "source": []
  }
 ],
 "metadata": {
  "kernelspec": {
   "display_name": "Python 3",
   "language": "python",
   "name": "python3"
  },
  "language_info": {
   "codemirror_mode": {
    "name": "ipython",
    "version": 3
   },
   "file_extension": ".py",
   "mimetype": "text/x-python",
   "name": "python",
   "nbconvert_exporter": "python",
   "pygments_lexer": "ipython3",
   "version": "3.11.11"
  }
 },
 "nbformat": 4,
 "nbformat_minor": 5
}
